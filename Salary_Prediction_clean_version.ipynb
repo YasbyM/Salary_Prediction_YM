{
 "cells": [
  {
   "cell_type": "code",
   "execution_count": 1,
   "metadata": {},
   "outputs": [],
   "source": [
    "import pandas as pd\n",
    "import numpy as np\n",
    "import matplotlib.pyplot as plt\n",
    "import seaborn as sns\n",
    "from scipy.stats.mstats import normaltest\n",
    "from scipy.stats import boxcox\n",
    "from sklearn.linear_model import LinearRegression\n",
    "from sklearn.metrics import r2_score\n",
    "from sklearn.model_selection import train_test_split\n",
    "from sklearn.preprocessing import (MinMaxScaler, Normalizer, StandardScaler,PolynomialFeatures, OneHotEncoder, LabelEncoder)\n",
    "from sklearn.pipeline import Pipeline\n",
    "from sklearn.model_selection import KFold, cross_val_predict\n",
    "# Mute the sklearn warning about regularization\n",
    "import warnings\n",
    "warnings.filterwarnings('ignore', module='sklearn')\n",
    "from sklearn.linear_model import Ridge, Lasso"
   ]
  },
  {
   "cell_type": "code",
   "execution_count": 2,
   "metadata": {},
   "outputs": [],
   "source": [
    "filepath = '../Engineering Salary Prediction/Engineering_graduate_salary.csv'\n",
    "data_v1 = pd.read_csv(filepath)"
   ]
  },
  {
   "cell_type": "code",
   "execution_count": 3,
   "metadata": {},
   "outputs": [],
   "source": [
    "data_v2 = data_v1.copy()\n",
    "others = data_v2[\"Specialization\"].value_counts().index[7:]\n",
    "label = 'Other'\n",
    "data_v2[\"Specialization\"] = data_v2[\"Specialization\"].replace(others, label)\n",
    "data_v3 = data_v2.drop(data_v2[(data_v2.GraduationYear ==0)].index)"
   ]
  },
  {
   "cell_type": "code",
   "execution_count": 4,
   "metadata": {},
   "outputs": [
    {
     "data": {
      "text/plain": [
       "NormaltestResult(statistic=76.40077545521372, pvalue=2.5691082475172492e-17)"
      ]
     },
     "execution_count": 4,
     "metadata": {},
     "output_type": "execute_result"
    }
   ],
   "source": [
    "bc_result_salary = boxcox(data_v3[\"Salary\"])\n",
    "box_cox_salary = bc_result_salary[0]\n",
    "normaltest(box_cox_salary)"
   ]
  },
  {
   "cell_type": "code",
   "execution_count": 5,
   "metadata": {},
   "outputs": [],
   "source": [
    "data_v4 = data_v3.copy()\n",
    "data_v4[\"Salary\"] = box_cox_salary"
   ]
  },
  {
   "cell_type": "code",
   "execution_count": 6,
   "metadata": {},
   "outputs": [],
   "source": [
    "data_v5 = data_v4.drop(['ID', 'DOB', '10board', '12graduation', '12board', 'CollegeID', 'CollegeCityID','CollegeState', 'Domain', 'ComputerProgramming', 'ElectronicsAndSemicon', 'ComputerScience', 'MechanicalEngg', 'ElectricalEngg', 'TelecomEngg','CivilEngg'], axis = 'columns')"
   ]
  },
  {
   "cell_type": "code",
   "execution_count": 7,
   "metadata": {},
   "outputs": [],
   "source": [
    "mask = data_v5.dtypes == np.object\n",
    "categorical_cols = data_v5.columns[mask]\n",
    "data_v6 = pd.get_dummies(data_v5, columns = categorical_cols)\n",
    "data_v6 = data_v6.drop('Gender_f', axis =1)"
   ]
  },
  {
   "cell_type": "raw",
   "metadata": {},
   "source": [
    "mask1 = data_v6.dtypes == np.float\n",
    "float_cols = data_v6.columns[mask1]"
   ]
  },
  {
   "cell_type": "raw",
   "metadata": {},
   "source": [
    "skew_limit = 0.75\n",
    "skew_vals = data_v6[float_cols].skew()\n",
    "\n",
    "skew_cols = (skew_vals\n",
    "             .sort_values(ascending=False)\n",
    "             .to_frame()\n",
    "             .rename(columns={0:'Skew'})\n",
    "             .query('abs(Skew) > {0}'.format(skew_limit)))\n",
    "\n",
    "skew_cols"
   ]
  },
  {
   "cell_type": "code",
   "execution_count": 8,
   "metadata": {},
   "outputs": [],
   "source": [
    "data_v7 = data_v6.copy()"
   ]
  },
  {
   "cell_type": "code",
   "execution_count": 9,
   "metadata": {},
   "outputs": [],
   "source": [
    "bc_result_GPA = boxcox(data_v7[\"collegeGPA\"])\n",
    "box_cox_GPA = bc_result_GPA[0]"
   ]
  },
  {
   "cell_type": "code",
   "execution_count": 10,
   "metadata": {},
   "outputs": [
    {
     "data": {
      "text/plain": [
       "NormaltestResult(statistic=124.90866701075149, pvalue=7.5236327400927065e-28)"
      ]
     },
     "execution_count": 10,
     "metadata": {},
     "output_type": "execute_result"
    }
   ],
   "source": [
    "normaltest(box_cox_GPA)"
   ]
  },
  {
   "cell_type": "code",
   "execution_count": 11,
   "metadata": {},
   "outputs": [],
   "source": [
    "data_v7[\"collegeGPA\"] = box_cox_GPA"
   ]
  },
  {
   "cell_type": "code",
   "execution_count": 12,
   "metadata": {},
   "outputs": [],
   "source": [
    "scaler_GPA = MinMaxScaler()\n",
    "GPA_array = data_v7[\"collegeGPA\"].values\n",
    "scaler_GPA.fit(GPA_array.reshape(-1,1))\n",
    "scaler_GPA_sc = scaler_GPA.transform(GPA_array.reshape(-1,1))\n",
    "data_v7[\"collegeGPA\"] = scaler_GPA_sc"
   ]
  },
  {
   "cell_type": "code",
   "execution_count": 13,
   "metadata": {},
   "outputs": [
    {
     "data": {
      "text/plain": [
       "NormaltestResult(statistic=1041.6876101835417, pvalue=6.315525821894445e-227)"
      ]
     },
     "execution_count": 13,
     "metadata": {},
     "output_type": "execute_result"
    }
   ],
   "source": [
    "normaltest(data_v6[\"collegeGPA\"])"
   ]
  },
  {
   "cell_type": "code",
   "execution_count": 14,
   "metadata": {},
   "outputs": [
    {
     "data": {
      "text/plain": [
       "<matplotlib.axes._subplots.AxesSubplot at 0x7f8bec24d190>"
      ]
     },
     "execution_count": 14,
     "metadata": {},
     "output_type": "execute_result"
    },
    {
     "data": {
      "image/png": "[encoded data removed]",
      "text/plain": [
       "<Figure size 432x288 with 1 Axes>"
      ]
     },
     "metadata": {
      "needs_background": "light"
     },
     "output_type": "display_data"
    }
   ],
   "source": [
    "sns.distplot(data_v7[\"collegeGPA\"])"
   ]
  },
  {
   "cell_type": "code",
   "execution_count": 15,
   "metadata": {},
   "outputs": [],
   "source": [
    "bc_result_10p = boxcox(data_v7[\"10percentage\"])\n",
    "box_cox_10p = bc_result_10p[0]"
   ]
  },
  {
   "cell_type": "code",
   "execution_count": 16,
   "metadata": {},
   "outputs": [
    {
     "data": {
      "text/plain": [
       "NormaltestResult(statistic=175.97460591432204, pvalue=6.131967553203854e-39)"
      ]
     },
     "execution_count": 16,
     "metadata": {},
     "output_type": "execute_result"
    }
   ],
   "source": [
    "normaltest(box_cox_10p)"
   ]
  },
  {
   "cell_type": "code",
   "execution_count": 17,
   "metadata": {},
   "outputs": [
    {
     "data": {
      "text/plain": [
       "NormaltestResult(statistic=146.29185545475372, pvalue=1.7105162891640768e-32)"
      ]
     },
     "execution_count": 17,
     "metadata": {},
     "output_type": "execute_result"
    }
   ],
   "source": [
    "normaltest(data_v6[\"10percentage\"])"
   ]
  },
  {
   "cell_type": "code",
   "execution_count": 18,
   "metadata": {},
   "outputs": [],
   "source": [
    "# We will not proceed with this transformation as it will reduce our p-value\n",
    "# data_v7[\"10percentage\"] = box_cox_10p"
   ]
  },
  {
   "cell_type": "code",
   "execution_count": 19,
   "metadata": {},
   "outputs": [],
   "source": [
    "scaler_10p = MinMaxScaler()\n",
    "tenp_array = data_v7[\"10percentage\"].values\n",
    "scaler_10p.fit(tenp_array.reshape(-1,1))\n",
    "scaler_10p_sc = scaler_10p.transform(tenp_array.reshape(-1,1))\n",
    "data_v7[\"10percentage\"] = scaler_10p_sc"
   ]
  },
  {
   "cell_type": "code",
   "execution_count": 20,
   "metadata": {},
   "outputs": [
    {
     "data": {
      "text/plain": [
       "<matplotlib.axes._subplots.AxesSubplot at 0x7f8bef26fa50>"
      ]
     },
     "execution_count": 20,
     "metadata": {},
     "output_type": "execute_result"
    },
    {
     "data": {
      "image/png": "[encoded data removed]",
      "text/plain": [
       "<Figure size 432x288 with 1 Axes>"
      ]
     },
     "metadata": {
      "needs_background": "light"
     },
     "output_type": "display_data"
    }
   ],
   "source": [
    "sns.distplot(data_v7[\"10percentage\"])"
   ]
  },
  {
   "cell_type": "code",
   "execution_count": 21,
   "metadata": {},
   "outputs": [
    {
     "data": {
      "text/plain": [
       "NormaltestResult(statistic=113.22242027259647, pvalue=2.594560630871285e-25)"
      ]
     },
     "execution_count": 21,
     "metadata": {},
     "output_type": "execute_result"
    }
   ],
   "source": [
    "bc_result_12p = boxcox(data_v7[\"12percentage\"])\n",
    "box_cox_12p = bc_result_12p[0]\n",
    "normaltest(box_cox_12p)"
   ]
  },
  {
   "cell_type": "code",
   "execution_count": 22,
   "metadata": {},
   "outputs": [
    {
     "data": {
      "text/plain": [
       "NormaltestResult(statistic=114.81459344978309, pvalue=1.1703824783487635e-25)"
      ]
     },
     "execution_count": 22,
     "metadata": {},
     "output_type": "execute_result"
    }
   ],
   "source": [
    "normaltest(data_v6[\"12percentage\"])"
   ]
  },
  {
   "cell_type": "code",
   "execution_count": 23,
   "metadata": {},
   "outputs": [],
   "source": [
    "data_v7[\"12percentage\"] = box_cox_12p"
   ]
  },
  {
   "cell_type": "code",
   "execution_count": 24,
   "metadata": {},
   "outputs": [],
   "source": [
    "scaler_12p = MinMaxScaler()\n",
    "twelvep_array = data_v7[\"12percentage\"].values\n",
    "scaler_12p.fit(twelvep_array.reshape(-1,1))\n",
    "scaler_12p_sc = scaler_12p.transform(twelvep_array.reshape(-1,1))\n",
    "data_v7[\"12percentage\"] = scaler_12p_sc"
   ]
  },
  {
   "cell_type": "code",
   "execution_count": 25,
   "metadata": {},
   "outputs": [
    {
     "data": {
      "text/plain": [
       "<matplotlib.axes._subplots.AxesSubplot at 0x7f8bef421dd0>"
      ]
     },
     "execution_count": 25,
     "metadata": {},
     "output_type": "execute_result"
    },
    {
     "data": {
      "image/png": "[encoded data removed]",
      "text/plain": [
       "<Figure size 432x288 with 1 Axes>"
      ]
     },
     "metadata": {
      "needs_background": "light"
     },
     "output_type": "display_data"
    }
   ],
   "source": [
    "sns.distplot(data_v7[\"12percentage\"])"
   ]
  },
  {
   "cell_type": "code",
   "execution_count": 26,
   "metadata": {},
   "outputs": [],
   "source": [
    "scaler_cons = MinMaxScaler()\n",
    "consp_array = data_v7[\"conscientiousness\"].values\n",
    "scaler_cons.fit(consp_array.reshape(-1,1))\n",
    "scaler_cons_sc = scaler_cons.transform(consp_array.reshape(-1,1))"
   ]
  },
  {
   "cell_type": "code",
   "execution_count": 27,
   "metadata": {},
   "outputs": [
    {
     "data": {
      "text/plain": [
       "<matplotlib.axes._subplots.AxesSubplot at 0x7f8bef5a90d0>"
      ]
     },
     "execution_count": 27,
     "metadata": {},
     "output_type": "execute_result"
    },
    {
     "data": {
      "image/png": "[encoded data removed]",
      "text/plain": [
       "<Figure size 432x288 with 1 Axes>"
      ]
     },
     "metadata": {
      "needs_background": "light"
     },
     "output_type": "display_data"
    }
   ],
   "source": [
    "sns.distplot(scaler_cons_sc)"
   ]
  },
  {
   "cell_type": "code",
   "execution_count": 28,
   "metadata": {},
   "outputs": [
    {
     "data": {
      "text/plain": [
       "count    2997.000000\n",
       "mean       -0.039105\n",
       "std         1.024921\n",
       "min        -3.893300\n",
       "25%        -0.649100\n",
       "50%         0.046400\n",
       "75%         0.702700\n",
       "max         1.995300\n",
       "Name: conscientiousness, dtype: float64"
      ]
     },
     "execution_count": 28,
     "metadata": {},
     "output_type": "execute_result"
    }
   ],
   "source": [
    "data_v7[\"conscientiousness\"].describe()"
   ]
  },
  {
   "cell_type": "code",
   "execution_count": 29,
   "metadata": {},
   "outputs": [
    {
     "data": {
      "text/plain": [
       "<matplotlib.axes._subplots.AxesSubplot at 0x7f8bef6f6350>"
      ]
     },
     "execution_count": 29,
     "metadata": {},
     "output_type": "execute_result"
    },
    {
     "data": {
      "image/png": "[encoded data removed]",
      "text/plain": [
       "<Figure size 432x288 with 1 Axes>"
      ]
     },
     "metadata": {
      "needs_background": "light"
     },
     "output_type": "display_data"
    }
   ],
   "source": [
    "sns.distplot(data_v7[\"conscientiousness\"])"
   ]
  },
  {
   "cell_type": "code",
   "execution_count": 30,
   "metadata": {},
   "outputs": [],
   "source": [
    "data_v7[\"conscientiousness\"] = scaler_cons_sc + 1"
   ]
  },
  {
   "cell_type": "code",
   "execution_count": 31,
   "metadata": {},
   "outputs": [
    {
     "data": {
      "text/plain": [
       "count    2997.000000\n",
       "mean        1.654518\n",
       "std         0.174052\n",
       "min         1.000000\n",
       "25%         1.550929\n",
       "50%         1.669038\n",
       "75%         1.780491\n",
       "max         2.000000\n",
       "Name: conscientiousness, dtype: float64"
      ]
     },
     "execution_count": 31,
     "metadata": {},
     "output_type": "execute_result"
    }
   ],
   "source": [
    "data_v7[\"conscientiousness\"].describe()"
   ]
  },
  {
   "cell_type": "code",
   "execution_count": 32,
   "metadata": {},
   "outputs": [],
   "source": [
    "bc_result_cons = boxcox(data_v7[\"conscientiousness\"])"
   ]
  },
  {
   "cell_type": "code",
   "execution_count": 33,
   "metadata": {},
   "outputs": [
    {
     "data": {
      "text/plain": [
       "NormaltestResult(statistic=48.053786782256104, pvalue=3.674961409548183e-11)"
      ]
     },
     "execution_count": 33,
     "metadata": {},
     "output_type": "execute_result"
    }
   ],
   "source": [
    "box_cox_cons = bc_result_cons[0]\n",
    "normaltest(box_cox_cons)"
   ]
  },
  {
   "cell_type": "code",
   "execution_count": 34,
   "metadata": {},
   "outputs": [
    {
     "data": {
      "text/plain": [
       "NormaltestResult(statistic=120.55516754022851, pvalue=6.634038478639149e-27)"
      ]
     },
     "execution_count": 34,
     "metadata": {},
     "output_type": "execute_result"
    }
   ],
   "source": [
    "normaltest(data_v7[\"conscientiousness\"])"
   ]
  },
  {
   "cell_type": "code",
   "execution_count": 35,
   "metadata": {},
   "outputs": [],
   "source": [
    "data_v7[\"conscientiousness\"] = box_cox_cons"
   ]
  },
  {
   "cell_type": "code",
   "execution_count": 36,
   "metadata": {},
   "outputs": [
    {
     "data": {
      "text/plain": [
       "<matplotlib.axes._subplots.AxesSubplot at 0x7f8bef86a950>"
      ]
     },
     "execution_count": 36,
     "metadata": {},
     "output_type": "execute_result"
    },
    {
     "data": {
      "image/png": "[encoded data removed]",
      "text/plain": [
       "<Figure size 432x288 with 1 Axes>"
      ]
     },
     "metadata": {
      "needs_background": "light"
     },
     "output_type": "display_data"
    }
   ],
   "source": [
    "sns.distplot(data_v7[\"conscientiousness\"])"
   ]
  },
  {
   "cell_type": "code",
   "execution_count": 37,
   "metadata": {},
   "outputs": [],
   "source": [
    "scaler_cons2 = MinMaxScaler()\n",
    "cons2p_array = data_v7[\"conscientiousness\"].values\n",
    "scaler_cons2.fit(cons2p_array.reshape(-1,1))\n",
    "scaler_cons2_sc = scaler_cons2.transform(cons2p_array.reshape(-1,1))"
   ]
  },
  {
   "cell_type": "code",
   "execution_count": 38,
   "metadata": {},
   "outputs": [],
   "source": [
    "data_v7[\"conscientiousness\"] = scaler_cons2_sc"
   ]
  },
  {
   "cell_type": "code",
   "execution_count": 39,
   "metadata": {},
   "outputs": [
    {
     "data": {
      "text/plain": [
       "<matplotlib.axes._subplots.AxesSubplot at 0x7f8bef9e3c10>"
      ]
     },
     "execution_count": 39,
     "metadata": {},
     "output_type": "execute_result"
    },
    {
     "data": {
      "image/png": "[encoded data removed]",
      "text/plain": [
       "<Figure size 432x288 with 1 Axes>"
      ]
     },
     "metadata": {
      "needs_background": "light"
     },
     "output_type": "display_data"
    }
   ],
   "source": [
    "sns.distplot(data_v7[\"conscientiousness\"])"
   ]
  },
  {
   "cell_type": "code",
   "execution_count": 40,
   "metadata": {},
   "outputs": [
    {
     "data": {
      "text/plain": [
       "NormaltestResult(statistic=120.55516754022867, pvalue=6.634038478638668e-27)"
      ]
     },
     "execution_count": 40,
     "metadata": {},
     "output_type": "execute_result"
    }
   ],
   "source": [
    "normaltest(data_v6[\"conscientiousness\"])"
   ]
  },
  {
   "cell_type": "code",
   "execution_count": 41,
   "metadata": {},
   "outputs": [],
   "source": [
    "scaler_agrea = MinMaxScaler()\n",
    "agreap_array = data_v7[\"agreeableness\"].values\n",
    "scaler_agrea.fit(agreap_array.reshape(-1,1))\n",
    "scaler_agrea_sc = scaler_agrea.transform(agreap_array.reshape(-1,1))"
   ]
  },
  {
   "cell_type": "code",
   "execution_count": 42,
   "metadata": {},
   "outputs": [],
   "source": [
    "data_v7[\"agreeableness\"] = scaler_agrea_sc + 1"
   ]
  },
  {
   "cell_type": "code",
   "execution_count": 43,
   "metadata": {},
   "outputs": [
    {
     "data": {
      "text/plain": [
       "NormaltestResult(statistic=11.221833345248623, pvalue=0.003657714893382781)"
      ]
     },
     "execution_count": 43,
     "metadata": {},
     "output_type": "execute_result"
    }
   ],
   "source": [
    "bc_result_agrea = boxcox(data_v7[\"agreeableness\"])\n",
    "box_cox_agrea = bc_result_agrea[0]\n",
    "normaltest(box_cox_agrea)"
   ]
  },
  {
   "cell_type": "code",
   "execution_count": 44,
   "metadata": {},
   "outputs": [
    {
     "data": {
      "text/plain": [
       "NormaltestResult(statistic=756.6386723535769, pvalue=4.98884373873633e-165)"
      ]
     },
     "execution_count": 44,
     "metadata": {},
     "output_type": "execute_result"
    }
   ],
   "source": [
    "normaltest(data_v7[\"agreeableness\"])"
   ]
  },
  {
   "cell_type": "code",
   "execution_count": 45,
   "metadata": {},
   "outputs": [],
   "source": [
    "data_v7[\"agreeableness\"] = box_cox_agrea"
   ]
  },
  {
   "cell_type": "code",
   "execution_count": 46,
   "metadata": {},
   "outputs": [],
   "source": [
    "scaler_agrea2 = MinMaxScaler()\n",
    "agrea2p_array = data_v7[\"agreeableness\"].values\n",
    "scaler_agrea2.fit(agrea2p_array.reshape(-1,1))\n",
    "scaler_agrea2_sc = scaler_agrea2.transform(agrea2p_array.reshape(-1,1))"
   ]
  },
  {
   "cell_type": "code",
   "execution_count": 47,
   "metadata": {},
   "outputs": [
    {
     "data": {
      "text/plain": [
       "<matplotlib.axes._subplots.AxesSubplot at 0x7f8befc5eb10>"
      ]
     },
     "execution_count": 47,
     "metadata": {},
     "output_type": "execute_result"
    },
    {
     "data": {
      "image/png": "[encoded data removed]",
      "text/plain": [
       "<Figure size 432x288 with 1 Axes>"
      ]
     },
     "metadata": {
      "needs_background": "light"
     },
     "output_type": "display_data"
    }
   ],
   "source": [
    "sns.distplot(scaler_agrea2_sc)"
   ]
  },
  {
   "cell_type": "code",
   "execution_count": 48,
   "metadata": {},
   "outputs": [],
   "source": [
    "data_v7[\"agreeableness\"] = scaler_agrea2_sc"
   ]
  },
  {
   "cell_type": "code",
   "execution_count": 49,
   "metadata": {},
   "outputs": [
    {
     "data": {
      "text/plain": [
       "<matplotlib.axes._subplots.AxesSubplot at 0x7f8befdcfa90>"
      ]
     },
     "execution_count": 49,
     "metadata": {},
     "output_type": "execute_result"
    },
    {
     "data": {
      "image/png": "[encoded data removed]",
      "text/plain": [
       "<Figure size 432x288 with 1 Axes>"
      ]
     },
     "metadata": {
      "needs_background": "light"
     },
     "output_type": "display_data"
    }
   ],
   "source": [
    "sns.distplot(data_v7[\"extraversion\"])"
   ]
  },
  {
   "cell_type": "code",
   "execution_count": 50,
   "metadata": {},
   "outputs": [],
   "source": [
    "scaler_extra = MinMaxScaler()\n",
    "extrap_array = data_v7[\"extraversion\"].values\n",
    "scaler_extra.fit(extrap_array.reshape(-1,1))\n",
    "scaler_extra_sc = scaler_extra.transform(extrap_array.reshape(-1,1))"
   ]
  },
  {
   "cell_type": "code",
   "execution_count": 51,
   "metadata": {},
   "outputs": [
    {
     "data": {
      "text/plain": [
       "<matplotlib.axes._subplots.AxesSubplot at 0x7f8beffc6e10>"
      ]
     },
     "execution_count": 51,
     "metadata": {},
     "output_type": "execute_result"
    },
    {
     "data": {
      "image/png": "[encoded data removed]",
      "text/plain": [
       "<Figure size 432x288 with 1 Axes>"
      ]
     },
     "metadata": {
      "needs_background": "light"
     },
     "output_type": "display_data"
    }
   ],
   "source": [
    "sns.distplot(scaler_extra_sc)"
   ]
  },
  {
   "cell_type": "code",
   "execution_count": 52,
   "metadata": {},
   "outputs": [],
   "source": [
    "data_v7[\"extraversion\"] = scaler_extra_sc + 1"
   ]
  },
  {
   "cell_type": "code",
   "execution_count": 53,
   "metadata": {},
   "outputs": [
    {
     "data": {
      "text/plain": [
       "NormaltestResult(statistic=4.491540298908693, pvalue=0.10584599174247404)"
      ]
     },
     "execution_count": 53,
     "metadata": {},
     "output_type": "execute_result"
    }
   ],
   "source": [
    "bc_result_extra = boxcox(data_v7[\"extraversion\"])\n",
    "box_cox_extra = bc_result_extra[0]\n",
    "normaltest(box_cox_extra)"
   ]
  },
  {
   "cell_type": "code",
   "execution_count": 54,
   "metadata": {},
   "outputs": [
    {
     "data": {
      "text/plain": [
       "NormaltestResult(statistic=148.8764925328704, pvalue=4.697647269228583e-33)"
      ]
     },
     "execution_count": 54,
     "metadata": {},
     "output_type": "execute_result"
    }
   ],
   "source": [
    "normaltest(data_v7[\"extraversion\"])"
   ]
  },
  {
   "cell_type": "code",
   "execution_count": 55,
   "metadata": {},
   "outputs": [],
   "source": [
    "data_v7[\"extraversion\"] = box_cox_extra"
   ]
  },
  {
   "cell_type": "code",
   "execution_count": 56,
   "metadata": {},
   "outputs": [],
   "source": [
    "scaler_extra2 = MinMaxScaler()\n",
    "extra2p_array = data_v7[\"extraversion\"].values\n",
    "scaler_extra2.fit(extra2p_array.reshape(-1,1))\n",
    "scaler_extra2_sc = scaler_extra2.transform(extra2p_array.reshape(-1,1))"
   ]
  },
  {
   "cell_type": "code",
   "execution_count": 57,
   "metadata": {},
   "outputs": [],
   "source": [
    "data_v7[\"extraversion\"] = scaler_extra2_sc"
   ]
  },
  {
   "cell_type": "code",
   "execution_count": 58,
   "metadata": {},
   "outputs": [
    {
     "data": {
      "text/plain": [
       "<matplotlib.axes._subplots.AxesSubplot at 0x7f8bf00cc750>"
      ]
     },
     "execution_count": 58,
     "metadata": {},
     "output_type": "execute_result"
    },
    {
     "data": {
      "image/png": "[encoded data removed]",
      "text/plain": [
       "<Figure size 432x288 with 1 Axes>"
      ]
     },
     "metadata": {
      "needs_background": "light"
     },
     "output_type": "display_data"
    }
   ],
   "source": [
    "sns.distplot(data_v7[\"extraversion\"])"
   ]
  },
  {
   "cell_type": "code",
   "execution_count": 59,
   "metadata": {},
   "outputs": [
    {
     "data": {
      "text/plain": [
       "<matplotlib.axes._subplots.AxesSubplot at 0x7f8bf03542d0>"
      ]
     },
     "execution_count": 59,
     "metadata": {},
     "output_type": "execute_result"
    },
    {
     "data": {
      "image/png": "[encoded data removed]",
      "text/plain": [
       "<Figure size 432x288 with 1 Axes>"
      ]
     },
     "metadata": {
      "needs_background": "light"
     },
     "output_type": "display_data"
    }
   ],
   "source": [
    "sns.distplot(data_v7[\"nueroticism\"])"
   ]
  },
  {
   "cell_type": "code",
   "execution_count": 60,
   "metadata": {},
   "outputs": [
    {
     "data": {
      "text/plain": [
       "NormaltestResult(statistic=19.12907781316011, pvalue=7.017356347184154e-05)"
      ]
     },
     "execution_count": 60,
     "metadata": {},
     "output_type": "execute_result"
    }
   ],
   "source": [
    "normaltest(data_v7[\"nueroticism\"])"
   ]
  },
  {
   "cell_type": "code",
   "execution_count": 61,
   "metadata": {},
   "outputs": [],
   "source": [
    "scaler_neuro = MinMaxScaler()\n",
    "neurop_array = data_v7[\"nueroticism\"].values\n",
    "scaler_neuro.fit(neurop_array.reshape(-1,1))\n",
    "scaler_neuro_sc = scaler_neuro.transform(neurop_array.reshape(-1,1))"
   ]
  },
  {
   "cell_type": "code",
   "execution_count": 62,
   "metadata": {},
   "outputs": [],
   "source": [
    "data_v7[\"nueroticism\"] = scaler_neuro_sc + 1"
   ]
  },
  {
   "cell_type": "code",
   "execution_count": 63,
   "metadata": {},
   "outputs": [
    {
     "data": {
      "text/plain": [
       "NormaltestResult(statistic=8.900219446756301, pvalue=0.011677285628873341)"
      ]
     },
     "execution_count": 63,
     "metadata": {},
     "output_type": "execute_result"
    }
   ],
   "source": [
    "bc_result_neuro = boxcox(data_v7[\"nueroticism\"])\n",
    "box_cox_neuro = bc_result_neuro[0]\n",
    "normaltest(box_cox_neuro)"
   ]
  },
  {
   "cell_type": "code",
   "execution_count": 64,
   "metadata": {},
   "outputs": [],
   "source": [
    "data_v7[\"nueroticism\"] = box_cox_neuro"
   ]
  },
  {
   "cell_type": "code",
   "execution_count": 65,
   "metadata": {},
   "outputs": [],
   "source": [
    "scaler_neuro2 = MinMaxScaler()\n",
    "neuro2p_array = data_v7[\"nueroticism\"].values\n",
    "scaler_neuro2.fit(neuro2p_array.reshape(-1,1))\n",
    "scaler_neuro2_sc = scaler_neuro2.transform(neuro2p_array.reshape(-1,1))"
   ]
  },
  {
   "cell_type": "code",
   "execution_count": 66,
   "metadata": {},
   "outputs": [],
   "source": [
    "data_v7[\"nueroticism\"] = scaler_neuro2_sc"
   ]
  },
  {
   "cell_type": "code",
   "execution_count": 67,
   "metadata": {},
   "outputs": [
    {
     "data": {
      "text/plain": [
       "NormaltestResult(statistic=8.900219446756422, pvalue=0.011677285628872637)"
      ]
     },
     "execution_count": 67,
     "metadata": {},
     "output_type": "execute_result"
    }
   ],
   "source": [
    "normaltest(data_v7[\"nueroticism\"])"
   ]
  },
  {
   "cell_type": "code",
   "execution_count": 68,
   "metadata": {},
   "outputs": [
    {
     "data": {
      "text/plain": [
       "NormaltestResult(statistic=1048.4587194042647, pvalue=2.1383649618919804e-228)"
      ]
     },
     "execution_count": 68,
     "metadata": {},
     "output_type": "execute_result"
    }
   ],
   "source": [
    "normaltest(data_v7[\"openess_to_experience\"])"
   ]
  },
  {
   "cell_type": "code",
   "execution_count": 69,
   "metadata": {},
   "outputs": [],
   "source": [
    "scaler_oe = MinMaxScaler()\n",
    "oep_array = data_v7[\"openess_to_experience\"].values\n",
    "scaler_oe.fit(oep_array.reshape(-1,1))\n",
    "scaler_oe_sc = scaler_oe.transform(oep_array.reshape(-1,1))"
   ]
  },
  {
   "cell_type": "code",
   "execution_count": 70,
   "metadata": {},
   "outputs": [],
   "source": [
    "data_v7[\"openess_to_experience\"] = scaler_oe_sc + 1"
   ]
  },
  {
   "cell_type": "code",
   "execution_count": 71,
   "metadata": {},
   "outputs": [
    {
     "data": {
      "text/plain": [
       "NormaltestResult(statistic=2.2188453602061022, pvalue=0.32974927695192086)"
      ]
     },
     "execution_count": 71,
     "metadata": {},
     "output_type": "execute_result"
    }
   ],
   "source": [
    "bc_result_oe = boxcox(data_v7[\"openess_to_experience\"])\n",
    "box_cox_oe = bc_result_oe[0]\n",
    "normaltest(box_cox_oe)"
   ]
  },
  {
   "cell_type": "code",
   "execution_count": 72,
   "metadata": {},
   "outputs": [],
   "source": [
    "data_v7[\"openess_to_experience\"] = box_cox_oe"
   ]
  },
  {
   "cell_type": "code",
   "execution_count": 73,
   "metadata": {},
   "outputs": [],
   "source": [
    "scaler_oe2 = MinMaxScaler()\n",
    "oe2p_array = data_v7[\"openess_to_experience\"].values\n",
    "scaler_oe2.fit(oe2p_array.reshape(-1,1))\n",
    "scaler_oe2_sc = scaler_oe2.transform(oep_array.reshape(-1,1))"
   ]
  },
  {
   "cell_type": "code",
   "execution_count": 74,
   "metadata": {},
   "outputs": [],
   "source": [
    "data_v7[\"openess_to_experience\"] = scaler_oe2_sc"
   ]
  },
  {
   "cell_type": "code",
   "execution_count": 75,
   "metadata": {},
   "outputs": [
    {
     "data": {
      "text/plain": [
       "<matplotlib.axes._subplots.AxesSubplot at 0x7f8bf05579d0>"
      ]
     },
     "execution_count": 75,
     "metadata": {},
     "output_type": "execute_result"
    },
    {
     "data": {
      "image/png": "[encoded data removed]",
      "text/plain": [
       "<Figure size 432x288 with 1 Axes>"
      ]
     },
     "metadata": {
      "needs_background": "light"
     },
     "output_type": "display_data"
    }
   ],
   "source": [
    "sns.distplot(data_v7[\"openess_to_experience\"])"
   ]
  },
  {
   "cell_type": "code",
   "execution_count": 76,
   "metadata": {},
   "outputs": [
    {
     "data": {
      "text/plain": [
       "NormaltestResult(statistic=82.69336557790102, pvalue=1.1050039227266835e-18)"
      ]
     },
     "execution_count": 76,
     "metadata": {},
     "output_type": "execute_result"
    }
   ],
   "source": [
    "normaltest(data_v7[\"GraduationYear\"])"
   ]
  },
  {
   "cell_type": "code",
   "execution_count": 77,
   "metadata": {},
   "outputs": [],
   "source": [
    "scaler_gy = MinMaxScaler()\n",
    "gyp_array = data_v7[\"GraduationYear\"].values\n",
    "scaler_gy.fit(gyp_array.reshape(-1,1))\n",
    "scaler_gy_sc = scaler_gy.transform(gyp_array.reshape(-1,1))"
   ]
  },
  {
   "cell_type": "code",
   "execution_count": 78,
   "metadata": {},
   "outputs": [],
   "source": [
    "data_v7[\"GraduationYear\"] = scaler_gy_sc + 1"
   ]
  },
  {
   "cell_type": "code",
   "execution_count": 79,
   "metadata": {},
   "outputs": [
    {
     "data": {
      "text/plain": [
       "NormaltestResult(statistic=0.44604044322224184, pvalue=0.8000986698468074)"
      ]
     },
     "execution_count": 79,
     "metadata": {},
     "output_type": "execute_result"
    }
   ],
   "source": [
    "bc_result_gy = boxcox(data_v7[\"GraduationYear\"])\n",
    "box_cox_gy = bc_result_gy[0]\n",
    "normaltest(box_cox_gy)"
   ]
  },
  {
   "cell_type": "code",
   "execution_count": 80,
   "metadata": {},
   "outputs": [],
   "source": [
    "data_v7[\"GraduationYear\"] = box_cox_gy"
   ]
  },
  {
   "cell_type": "code",
   "execution_count": 81,
   "metadata": {},
   "outputs": [],
   "source": [
    "scaler_gy2 = MinMaxScaler()\n",
    "gy2p_array = data_v7[\"GraduationYear\"].values\n",
    "scaler_gy2.fit(gy2p_array.reshape(-1,1))\n",
    "scaler_gy2_sc = scaler_gy2.transform(gy2p_array.reshape(-1,1))"
   ]
  },
  {
   "cell_type": "code",
   "execution_count": 82,
   "metadata": {},
   "outputs": [],
   "source": [
    "data_v7[\"GraduationYear\"] = scaler_gy2_sc"
   ]
  },
  {
   "cell_type": "code",
   "execution_count": 83,
   "metadata": {},
   "outputs": [
    {
     "data": {
      "text/plain": [
       "NormaltestResult(statistic=0.44604044322225966, pvalue=0.8000986698468003)"
      ]
     },
     "execution_count": 83,
     "metadata": {},
     "output_type": "execute_result"
    }
   ],
   "source": [
    "normaltest(data_v7[\"GraduationYear\"])"
   ]
  },
  {
   "cell_type": "code",
   "execution_count": 84,
   "metadata": {},
   "outputs": [
    {
     "data": {
      "text/plain": [
       "NormaltestResult(statistic=25.866423517437397, pvalue=2.4164482559007315e-06)"
      ]
     },
     "execution_count": 84,
     "metadata": {},
     "output_type": "execute_result"
    }
   ],
   "source": [
    "normaltest(data_v7[\"English\"])"
   ]
  },
  {
   "cell_type": "code",
   "execution_count": 85,
   "metadata": {},
   "outputs": [],
   "source": [
    "scaler_en = MinMaxScaler()\n",
    "enp_array = data_v7[\"English\"].values\n",
    "scaler_en.fit(enp_array.reshape(-1,1))\n",
    "scaler_en_sc = scaler_en.transform(enp_array.reshape(-1,1))"
   ]
  },
  {
   "cell_type": "code",
   "execution_count": 86,
   "metadata": {},
   "outputs": [],
   "source": [
    "data_v7[\"English\"] = scaler_en_sc + 1"
   ]
  },
  {
   "cell_type": "code",
   "execution_count": 87,
   "metadata": {},
   "outputs": [
    {
     "data": {
      "text/plain": [
       "NormaltestResult(statistic=13.121886396157839, pvalue=0.0014145508792688462)"
      ]
     },
     "execution_count": 87,
     "metadata": {},
     "output_type": "execute_result"
    }
   ],
   "source": [
    "bc_result_en = boxcox(data_v7[\"English\"])\n",
    "box_cox_en = bc_result_en[0]\n",
    "normaltest(box_cox_en)"
   ]
  },
  {
   "cell_type": "code",
   "execution_count": 88,
   "metadata": {},
   "outputs": [],
   "source": [
    "data_v7[\"English\"] = box_cox_en"
   ]
  },
  {
   "cell_type": "code",
   "execution_count": 89,
   "metadata": {},
   "outputs": [],
   "source": [
    "scaler_en2 = MinMaxScaler()\n",
    "en2p_array = data_v7[\"English\"].values\n",
    "scaler_en2.fit(en2p_array.reshape(-1,1))\n",
    "scaler_en2_sc = scaler_en2.transform(en2p_array.reshape(-1,1))"
   ]
  },
  {
   "cell_type": "code",
   "execution_count": 90,
   "metadata": {},
   "outputs": [],
   "source": [
    "data_v7[\"English\"] = scaler_en2_sc"
   ]
  },
  {
   "cell_type": "code",
   "execution_count": 91,
   "metadata": {},
   "outputs": [
    {
     "data": {
      "text/plain": [
       "<matplotlib.axes._subplots.AxesSubplot at 0x7f8bf06c4090>"
      ]
     },
     "execution_count": 91,
     "metadata": {},
     "output_type": "execute_result"
    },
    {
     "data": {
      "image/png": "[encoded data removed]",
      "text/plain": [
       "<Figure size 432x288 with 1 Axes>"
      ]
     },
     "metadata": {
      "needs_background": "light"
     },
     "output_type": "display_data"
    }
   ],
   "source": [
    "sns.distplot(data_v7[\"English\"])"
   ]
  },
  {
   "cell_type": "code",
   "execution_count": 92,
   "metadata": {},
   "outputs": [
    {
     "data": {
      "text/plain": [
       "NormaltestResult(statistic=31.680582367986048, pvalue=1.32022802377721e-07)"
      ]
     },
     "execution_count": 92,
     "metadata": {},
     "output_type": "execute_result"
    }
   ],
   "source": [
    "normaltest(data_v7[\"Logical\"])"
   ]
  },
  {
   "cell_type": "code",
   "execution_count": 93,
   "metadata": {},
   "outputs": [
    {
     "data": {
      "text/plain": [
       "<matplotlib.axes._subplots.AxesSubplot at 0x7f8bf07a84d0>"
      ]
     },
     "execution_count": 93,
     "metadata": {},
     "output_type": "execute_result"
    },
    {
     "data": {
      "image/png": "[encoded data removed]",
      "text/plain": [
       "<Figure size 432x288 with 1 Axes>"
      ]
     },
     "metadata": {
      "needs_background": "light"
     },
     "output_type": "display_data"
    }
   ],
   "source": [
    "sns.distplot(data_v7[\"Logical\"])"
   ]
  },
  {
   "cell_type": "code",
   "execution_count": 94,
   "metadata": {},
   "outputs": [],
   "source": [
    "scaler_lg = MinMaxScaler()\n",
    "lgp_array = data_v7[\"Logical\"].values\n",
    "scaler_lg.fit(lgp_array.reshape(-1,1))\n",
    "scaler_lg_sc = scaler_lg.transform(lgp_array.reshape(-1,1))"
   ]
  },
  {
   "cell_type": "code",
   "execution_count": 95,
   "metadata": {},
   "outputs": [],
   "source": [
    "data_v7[\"Logical\"] = scaler_lg_sc + 1"
   ]
  },
  {
   "cell_type": "code",
   "execution_count": 96,
   "metadata": {},
   "outputs": [
    {
     "data": {
      "text/plain": [
       "NormaltestResult(statistic=23.131502159924707, pvalue=9.48545410159262e-06)"
      ]
     },
     "execution_count": 96,
     "metadata": {},
     "output_type": "execute_result"
    }
   ],
   "source": [
    "bc_result_lg = boxcox(data_v7[\"Logical\"])\n",
    "box_cox_lg = bc_result_lg[0]\n",
    "normaltest(box_cox_lg)"
   ]
  },
  {
   "cell_type": "code",
   "execution_count": 97,
   "metadata": {},
   "outputs": [],
   "source": [
    "data_v7[\"Logical\"] = box_cox_lg"
   ]
  },
  {
   "cell_type": "code",
   "execution_count": 98,
   "metadata": {},
   "outputs": [],
   "source": [
    "scaler_lg2 = MinMaxScaler()\n",
    "lg2p_array = data_v7[\"Logical\"].values\n",
    "scaler_lg2.fit(lg2p_array.reshape(-1,1))\n",
    "scaler_lg2_sc = scaler_lg2.transform(lg2p_array.reshape(-1,1))"
   ]
  },
  {
   "cell_type": "code",
   "execution_count": 99,
   "metadata": {},
   "outputs": [],
   "source": [
    "data_v7[\"Logical\"] = scaler_lg2_sc"
   ]
  },
  {
   "cell_type": "code",
   "execution_count": 100,
   "metadata": {},
   "outputs": [
    {
     "data": {
      "text/plain": [
       "NormaltestResult(statistic=23.131502159924693, pvalue=9.485454101592676e-06)"
      ]
     },
     "execution_count": 100,
     "metadata": {},
     "output_type": "execute_result"
    }
   ],
   "source": [
    "normaltest(data_v7[\"Logical\"])"
   ]
  },
  {
   "cell_type": "code",
   "execution_count": 101,
   "metadata": {},
   "outputs": [
    {
     "data": {
      "text/plain": [
       "NormaltestResult(statistic=1.1442353011945232, pvalue=0.564329120555493)"
      ]
     },
     "execution_count": 101,
     "metadata": {},
     "output_type": "execute_result"
    }
   ],
   "source": [
    "normaltest(data_v7[\"Quant\"])"
   ]
  },
  {
   "cell_type": "code",
   "execution_count": 102,
   "metadata": {},
   "outputs": [
    {
     "data": {
      "text/plain": [
       "NormaltestResult(statistic=0.3842835623840151, pvalue=0.8251898637948244)"
      ]
     },
     "execution_count": 102,
     "metadata": {},
     "output_type": "execute_result"
    }
   ],
   "source": [
    "bc_result_qt = boxcox(data_v7[\"Quant\"])\n",
    "box_cox_qt = bc_result_qt[0]\n",
    "normaltest(box_cox_qt)"
   ]
  },
  {
   "cell_type": "code",
   "execution_count": 103,
   "metadata": {},
   "outputs": [],
   "source": [
    "data_v7[\"Quant\"] = box_cox_qt"
   ]
  },
  {
   "cell_type": "code",
   "execution_count": 104,
   "metadata": {},
   "outputs": [],
   "source": [
    "scaler_qt = MinMaxScaler()\n",
    "qtp_array = data_v7[\"Quant\"].values\n",
    "scaler_qt.fit(qtp_array.reshape(-1,1))\n",
    "scaler_qt_sc = scaler_qt.transform(qtp_array.reshape(-1,1))"
   ]
  },
  {
   "cell_type": "code",
   "execution_count": 105,
   "metadata": {},
   "outputs": [],
   "source": [
    "data_v7[\"Quant\"] = scaler_qt_sc"
   ]
  },
  {
   "cell_type": "code",
   "execution_count": 106,
   "metadata": {},
   "outputs": [
    {
     "data": {
      "text/plain": [
       "<matplotlib.axes._subplots.AxesSubplot at 0x7f8bf09f1c90>"
      ]
     },
     "execution_count": 106,
     "metadata": {},
     "output_type": "execute_result"
    },
    {
     "data": {
      "image/png": "[encoded data removed]",
      "text/plain": [
       "<Figure size 432x288 with 1 Axes>"
      ]
     },
     "metadata": {
      "needs_background": "light"
     },
     "output_type": "display_data"
    }
   ],
   "source": [
    "sns.distplot(data_v7[\"Quant\"])"
   ]
  },
  {
   "cell_type": "code",
   "execution_count": 107,
   "metadata": {},
   "outputs": [],
   "source": [
    "col = data_v7.CollegeTier.values"
   ]
  },
  {
   "cell_type": "code",
   "execution_count": 108,
   "metadata": {},
   "outputs": [],
   "source": [
    "data_v7[\"CollegeTier\"] = col - 1"
   ]
  },
  {
   "cell_type": "code",
   "execution_count": 109,
   "metadata": {},
   "outputs": [
    {
     "data": {
      "text/html": [
       "<div>\n",
       "<style scoped>\n",
       "    .dataframe tbody tr th:only-of-type {\n",
       "        vertical-align: middle;\n",
       "    }\n",
       "\n",
       "    .dataframe tbody tr th {\n",
       "        vertical-align: top;\n",
       "    }\n",
       "\n",
       "    .dataframe thead th {\n",
       "        text-align: right;\n",
       "    }\n",
       "</style>\n",
       "<table border=\"1\" class=\"dataframe\">\n",
       "  <thead>\n",
       "    <tr style=\"text-align: right;\">\n",
       "      <th></th>\n",
       "      <th>10percentage</th>\n",
       "      <th>12percentage</th>\n",
       "      <th>CollegeTier</th>\n",
       "      <th>collegeGPA</th>\n",
       "      <th>CollegeCityTier</th>\n",
       "      <th>GraduationYear</th>\n",
       "      <th>English</th>\n",
       "      <th>Logical</th>\n",
       "      <th>Quant</th>\n",
       "      <th>conscientiousness</th>\n",
       "      <th>...</th>\n",
       "      <th>Degree_M.Tech./M.E.</th>\n",
       "      <th>Degree_MCA</th>\n",
       "      <th>Specialization_Other</th>\n",
       "      <th>Specialization_computer application</th>\n",
       "      <th>Specialization_computer engineering</th>\n",
       "      <th>Specialization_computer science &amp; engineering</th>\n",
       "      <th>Specialization_electronics and communication engineering</th>\n",
       "      <th>Specialization_electronics and electrical engineering</th>\n",
       "      <th>Specialization_information technology</th>\n",
       "      <th>Specialization_mechanical engineering</th>\n",
       "    </tr>\n",
       "  </thead>\n",
       "  <tbody>\n",
       "    <tr>\n",
       "      <th>count</th>\n",
       "      <td>2997.000000</td>\n",
       "      <td>2997.000000</td>\n",
       "      <td>2997.000000</td>\n",
       "      <td>2997.000000</td>\n",
       "      <td>2997.000000</td>\n",
       "      <td>2997.000000</td>\n",
       "      <td>2997.000000</td>\n",
       "      <td>2997.000000</td>\n",
       "      <td>2997.000000</td>\n",
       "      <td>2997.000000</td>\n",
       "      <td>...</td>\n",
       "      <td>2997.000000</td>\n",
       "      <td>2997.000000</td>\n",
       "      <td>2997.000000</td>\n",
       "      <td>2997.000000</td>\n",
       "      <td>2997.000000</td>\n",
       "      <td>2997.000000</td>\n",
       "      <td>2997.000000</td>\n",
       "      <td>2997.000000</td>\n",
       "      <td>2997.000000</td>\n",
       "      <td>2997.000000</td>\n",
       "    </tr>\n",
       "    <tr>\n",
       "      <th>mean</th>\n",
       "      <td>0.632989</td>\n",
       "      <td>0.586430</td>\n",
       "      <td>0.924591</td>\n",
       "      <td>0.518326</td>\n",
       "      <td>0.296296</td>\n",
       "      <td>0.427726</td>\n",
       "      <td>0.518044</td>\n",
       "      <td>0.448121</td>\n",
       "      <td>0.496235</td>\n",
       "      <td>0.544651</td>\n",
       "      <td>...</td>\n",
       "      <td>0.013347</td>\n",
       "      <td>0.066733</td>\n",
       "      <td>0.115449</td>\n",
       "      <td>0.067067</td>\n",
       "      <td>0.138472</td>\n",
       "      <td>0.185853</td>\n",
       "      <td>0.223557</td>\n",
       "      <td>0.049383</td>\n",
       "      <td>0.168836</td>\n",
       "      <td>0.051385</td>\n",
       "    </tr>\n",
       "    <tr>\n",
       "      <th>std</th>\n",
       "      <td>0.182657</td>\n",
       "      <td>0.189164</td>\n",
       "      <td>0.264094</td>\n",
       "      <td>0.110527</td>\n",
       "      <td>0.456699</td>\n",
       "      <td>0.133985</td>\n",
       "      <td>0.150653</td>\n",
       "      <td>0.145449</td>\n",
       "      <td>0.157288</td>\n",
       "      <td>0.194676</td>\n",
       "      <td>...</td>\n",
       "      <td>0.114773</td>\n",
       "      <td>0.249601</td>\n",
       "      <td>0.319616</td>\n",
       "      <td>0.250180</td>\n",
       "      <td>0.345452</td>\n",
       "      <td>0.389053</td>\n",
       "      <td>0.416698</td>\n",
       "      <td>0.216702</td>\n",
       "      <td>0.374669</td>\n",
       "      <td>0.220818</td>\n",
       "    </tr>\n",
       "    <tr>\n",
       "      <th>min</th>\n",
       "      <td>0.000000</td>\n",
       "      <td>0.000000</td>\n",
       "      <td>0.000000</td>\n",
       "      <td>0.000000</td>\n",
       "      <td>0.000000</td>\n",
       "      <td>0.000000</td>\n",
       "      <td>0.000000</td>\n",
       "      <td>0.000000</td>\n",
       "      <td>0.000000</td>\n",
       "      <td>0.000000</td>\n",
       "      <td>...</td>\n",
       "      <td>0.000000</td>\n",
       "      <td>0.000000</td>\n",
       "      <td>0.000000</td>\n",
       "      <td>0.000000</td>\n",
       "      <td>0.000000</td>\n",
       "      <td>0.000000</td>\n",
       "      <td>0.000000</td>\n",
       "      <td>0.000000</td>\n",
       "      <td>0.000000</td>\n",
       "      <td>0.000000</td>\n",
       "    </tr>\n",
       "    <tr>\n",
       "      <th>25%</th>\n",
       "      <td>0.513696</td>\n",
       "      <td>0.444731</td>\n",
       "      <td>1.000000</td>\n",
       "      <td>0.442571</td>\n",
       "      <td>0.000000</td>\n",
       "      <td>0.355855</td>\n",
       "      <td>0.411839</td>\n",
       "      <td>0.343778</td>\n",
       "      <td>0.387364</td>\n",
       "      <td>0.413562</td>\n",
       "      <td>...</td>\n",
       "      <td>0.000000</td>\n",
       "      <td>0.000000</td>\n",
       "      <td>0.000000</td>\n",
       "      <td>0.000000</td>\n",
       "      <td>0.000000</td>\n",
       "      <td>0.000000</td>\n",
       "      <td>0.000000</td>\n",
       "      <td>0.000000</td>\n",
       "      <td>0.000000</td>\n",
       "      <td>0.000000</td>\n",
       "    </tr>\n",
       "    <tr>\n",
       "      <th>50%</th>\n",
       "      <td>0.656136</td>\n",
       "      <td>0.580925</td>\n",
       "      <td>1.000000</td>\n",
       "      <td>0.515932</td>\n",
       "      <td>0.000000</td>\n",
       "      <td>0.459233</td>\n",
       "      <td>0.522220</td>\n",
       "      <td>0.450279</td>\n",
       "      <td>0.496529</td>\n",
       "      <td>0.543896</td>\n",
       "      <td>...</td>\n",
       "      <td>0.000000</td>\n",
       "      <td>0.000000</td>\n",
       "      <td>0.000000</td>\n",
       "      <td>0.000000</td>\n",
       "      <td>0.000000</td>\n",
       "      <td>0.000000</td>\n",
       "      <td>0.000000</td>\n",
       "      <td>0.000000</td>\n",
       "      <td>0.000000</td>\n",
       "      <td>0.000000</td>\n",
       "    </tr>\n",
       "    <tr>\n",
       "      <th>75%</th>\n",
       "      <td>0.777940</td>\n",
       "      <td>0.727065</td>\n",
       "      <td>1.000000</td>\n",
       "      <td>0.582825</td>\n",
       "      <td>1.000000</td>\n",
       "      <td>0.574755</td>\n",
       "      <td>0.620069</td>\n",
       "      <td>0.554108</td>\n",
       "      <td>0.600038</td>\n",
       "      <td>0.682075</td>\n",
       "      <td>...</td>\n",
       "      <td>0.000000</td>\n",
       "      <td>0.000000</td>\n",
       "      <td>0.000000</td>\n",
       "      <td>0.000000</td>\n",
       "      <td>0.000000</td>\n",
       "      <td>0.000000</td>\n",
       "      <td>0.000000</td>\n",
       "      <td>0.000000</td>\n",
       "      <td>0.000000</td>\n",
       "      <td>0.000000</td>\n",
       "    </tr>\n",
       "    <tr>\n",
       "      <th>max</th>\n",
       "      <td>1.000000</td>\n",
       "      <td>1.000000</td>\n",
       "      <td>1.000000</td>\n",
       "      <td>1.000000</td>\n",
       "      <td>1.000000</td>\n",
       "      <td>1.000000</td>\n",
       "      <td>1.000000</td>\n",
       "      <td>1.000000</td>\n",
       "      <td>1.000000</td>\n",
       "      <td>1.000000</td>\n",
       "      <td>...</td>\n",
       "      <td>1.000000</td>\n",
       "      <td>1.000000</td>\n",
       "      <td>1.000000</td>\n",
       "      <td>1.000000</td>\n",
       "      <td>1.000000</td>\n",
       "      <td>1.000000</td>\n",
       "      <td>1.000000</td>\n",
       "      <td>1.000000</td>\n",
       "      <td>1.000000</td>\n",
       "      <td>1.000000</td>\n",
       "    </tr>\n",
       "  </tbody>\n",
       "</table>\n",
       "<p>8 rows × 28 columns</p>\n",
       "</div>"
      ],
      "text/plain": [
       "       10percentage  12percentage  CollegeTier   collegeGPA  CollegeCityTier  \\\n",
       "count   2997.000000   2997.000000  2997.000000  2997.000000      2997.000000   \n",
       "mean       0.632989      0.586430     0.924591     0.518326         0.296296   \n",
       "std        0.182657      0.189164     0.264094     0.110527         0.456699   \n",
       "min        0.000000      0.000000     0.000000     0.000000         0.000000   \n",
       "25%        0.513696      0.444731     1.000000     0.442571         0.000000   \n",
       "50%        0.656136      0.580925     1.000000     0.515932         0.000000   \n",
       "75%        0.777940      0.727065     1.000000     0.582825         1.000000   \n",
       "max        1.000000      1.000000     1.000000     1.000000         1.000000   \n",
       "\n",
       "       GraduationYear      English      Logical        Quant  \\\n",
       "count     2997.000000  2997.000000  2997.000000  2997.000000   \n",
       "mean         0.427726     0.518044     0.448121     0.496235   \n",
       "std          0.133985     0.150653     0.145449     0.157288   \n",
       "min          0.000000     0.000000     0.000000     0.000000   \n",
       "25%          0.355855     0.411839     0.343778     0.387364   \n",
       "50%          0.459233     0.522220     0.450279     0.496529   \n",
       "75%          0.574755     0.620069     0.554108     0.600038   \n",
       "max          1.000000     1.000000     1.000000     1.000000   \n",
       "\n",
       "       conscientiousness  ...  Degree_M.Tech./M.E.   Degree_MCA  \\\n",
       "count        2997.000000  ...          2997.000000  2997.000000   \n",
       "mean            0.544651  ...             0.013347     0.066733   \n",
       "std             0.194676  ...             0.114773     0.249601   \n",
       "min             0.000000  ...             0.000000     0.000000   \n",
       "25%             0.413562  ...             0.000000     0.000000   \n",
       "50%             0.543896  ...             0.000000     0.000000   \n",
       "75%             0.682075  ...             0.000000     0.000000   \n",
       "max             1.000000  ...             1.000000     1.000000   \n",
       "\n",
       "       Specialization_Other  Specialization_computer application  \\\n",
       "count           2997.000000                          2997.000000   \n",
       "mean               0.115449                             0.067067   \n",
       "std                0.319616                             0.250180   \n",
       "min                0.000000                             0.000000   \n",
       "25%                0.000000                             0.000000   \n",
       "50%                0.000000                             0.000000   \n",
       "75%                0.000000                             0.000000   \n",
       "max                1.000000                             1.000000   \n",
       "\n",
       "       Specialization_computer engineering  \\\n",
       "count                          2997.000000   \n",
       "mean                              0.138472   \n",
       "std                               0.345452   \n",
       "min                               0.000000   \n",
       "25%                               0.000000   \n",
       "50%                               0.000000   \n",
       "75%                               0.000000   \n",
       "max                               1.000000   \n",
       "\n",
       "       Specialization_computer science & engineering  \\\n",
       "count                                    2997.000000   \n",
       "mean                                        0.185853   \n",
       "std                                         0.389053   \n",
       "min                                         0.000000   \n",
       "25%                                         0.000000   \n",
       "50%                                         0.000000   \n",
       "75%                                         0.000000   \n",
       "max                                         1.000000   \n",
       "\n",
       "       Specialization_electronics and communication engineering  \\\n",
       "count                                        2997.000000          \n",
       "mean                                            0.223557          \n",
       "std                                             0.416698          \n",
       "min                                             0.000000          \n",
       "25%                                             0.000000          \n",
       "50%                                             0.000000          \n",
       "75%                                             0.000000          \n",
       "max                                             1.000000          \n",
       "\n",
       "       Specialization_electronics and electrical engineering  \\\n",
       "count                                        2997.000000       \n",
       "mean                                            0.049383       \n",
       "std                                             0.216702       \n",
       "min                                             0.000000       \n",
       "25%                                             0.000000       \n",
       "50%                                             0.000000       \n",
       "75%                                             0.000000       \n",
       "max                                             1.000000       \n",
       "\n",
       "       Specialization_information technology  \\\n",
       "count                            2997.000000   \n",
       "mean                                0.168836   \n",
       "std                                 0.374669   \n",
       "min                                 0.000000   \n",
       "25%                                 0.000000   \n",
       "50%                                 0.000000   \n",
       "75%                                 0.000000   \n",
       "max                                 1.000000   \n",
       "\n",
       "       Specialization_mechanical engineering  \n",
       "count                            2997.000000  \n",
       "mean                                0.051385  \n",
       "std                                 0.220818  \n",
       "min                                 0.000000  \n",
       "25%                                 0.000000  \n",
       "50%                                 0.000000  \n",
       "75%                                 0.000000  \n",
       "max                                 1.000000  \n",
       "\n",
       "[8 rows x 28 columns]"
      ]
     },
     "execution_count": 109,
     "metadata": {},
     "output_type": "execute_result"
    }
   ],
   "source": [
    "data_v7.describe()"
   ]
  },
  {
   "cell_type": "code",
   "execution_count": null,
   "metadata": {},
   "outputs": [],
   "source": []
  },
  {
   "cell_type": "code",
   "execution_count": null,
   "metadata": {},
   "outputs": [],
   "source": []
  },
  {
   "cell_type": "code",
   "execution_count": null,
   "metadata": {},
   "outputs": [],
   "source": []
  },
  {
   "cell_type": "markdown",
   "metadata": {},
   "source": [
    "Here we will start ou Prediction :"
   ]
  },
  {
   "cell_type": "code",
   "execution_count": 110,
   "metadata": {},
   "outputs": [],
   "source": [
    "s = StandardScaler()\n",
    "lr = LinearRegression()\n",
    "ls = Lasso(alpha=0.0001)\n",
    "rg = Ridge(alpha=0.001)"
   ]
  },
  {
   "cell_type": "code",
   "execution_count": 111,
   "metadata": {},
   "outputs": [],
   "source": [
    "y_col = \"Salary\"\n",
    "\n",
    "X = data_v7.drop(y_col, axis=1)\n",
    "y = data_v7[y_col]"
   ]
  },
  {
   "cell_type": "markdown",
   "metadata": {},
   "source": [
    "pf = PolynomialFeatures(degree=2, include_bias=False)\n",
    "X_pf = pf.fit_transform(X)\n",
    "X_pf_df = pd.DataFrame(X_pf)"
   ]
  },
  {
   "cell_type": "markdown",
   "metadata": {},
   "source": [
    "names = PolynomialFeatureNames(interaction.get_feature_names(),input_df)\n",
    "\n",
    "print(pd.DataFrame(X_inter, columns= names))"
   ]
  },
  {
   "cell_type": "code",
   "execution_count": 112,
   "metadata": {},
   "outputs": [],
   "source": [
    "X_train, X_test, y_train, y_test = train_test_split(X, y, test_size=0.3, random_state=72018)"
   ]
  },
  {
   "cell_type": "code",
   "execution_count": 113,
   "metadata": {},
   "outputs": [
    {
     "data": {
      "text/html": [
       "<div>\n",
       "<style scoped>\n",
       "    .dataframe tbody tr th:only-of-type {\n",
       "        vertical-align: middle;\n",
       "    }\n",
       "\n",
       "    .dataframe tbody tr th {\n",
       "        vertical-align: top;\n",
       "    }\n",
       "\n",
       "    .dataframe thead th {\n",
       "        text-align: right;\n",
       "    }\n",
       "</style>\n",
       "<table border=\"1\" class=\"dataframe\">\n",
       "  <thead>\n",
       "    <tr style=\"text-align: right;\">\n",
       "      <th></th>\n",
       "      <th>10percentage</th>\n",
       "      <th>12percentage</th>\n",
       "      <th>CollegeTier</th>\n",
       "      <th>collegeGPA</th>\n",
       "      <th>CollegeCityTier</th>\n",
       "      <th>GraduationYear</th>\n",
       "      <th>English</th>\n",
       "      <th>Logical</th>\n",
       "      <th>Quant</th>\n",
       "      <th>conscientiousness</th>\n",
       "      <th>...</th>\n",
       "      <th>Degree_M.Tech./M.E.</th>\n",
       "      <th>Degree_MCA</th>\n",
       "      <th>Specialization_Other</th>\n",
       "      <th>Specialization_computer application</th>\n",
       "      <th>Specialization_computer engineering</th>\n",
       "      <th>Specialization_computer science &amp; engineering</th>\n",
       "      <th>Specialization_electronics and communication engineering</th>\n",
       "      <th>Specialization_electronics and electrical engineering</th>\n",
       "      <th>Specialization_information technology</th>\n",
       "      <th>Specialization_mechanical engineering</th>\n",
       "    </tr>\n",
       "  </thead>\n",
       "  <tbody>\n",
       "    <tr>\n",
       "      <th>2674</th>\n",
       "      <td>0.730460</td>\n",
       "      <td>0.614935</td>\n",
       "      <td>1</td>\n",
       "      <td>0.422479</td>\n",
       "      <td>0</td>\n",
       "      <td>0.574755</td>\n",
       "      <td>0.585659</td>\n",
       "      <td>0.258587</td>\n",
       "      <td>0.438623</td>\n",
       "      <td>0.374289</td>\n",
       "      <td>...</td>\n",
       "      <td>0</td>\n",
       "      <td>0</td>\n",
       "      <td>0</td>\n",
       "      <td>0</td>\n",
       "      <td>1</td>\n",
       "      <td>0</td>\n",
       "      <td>0</td>\n",
       "      <td>0</td>\n",
       "      <td>0</td>\n",
       "      <td>0</td>\n",
       "    </tr>\n",
       "    <tr>\n",
       "      <th>1082</th>\n",
       "      <td>0.710373</td>\n",
       "      <td>0.840744</td>\n",
       "      <td>1</td>\n",
       "      <td>0.766761</td>\n",
       "      <td>1</td>\n",
       "      <td>0.355855</td>\n",
       "      <td>0.441876</td>\n",
       "      <td>0.484304</td>\n",
       "      <td>0.317245</td>\n",
       "      <td>0.673638</td>\n",
       "      <td>...</td>\n",
       "      <td>0</td>\n",
       "      <td>0</td>\n",
       "      <td>0</td>\n",
       "      <td>0</td>\n",
       "      <td>0</td>\n",
       "      <td>0</td>\n",
       "      <td>0</td>\n",
       "      <td>1</td>\n",
       "      <td>0</td>\n",
       "      <td>0</td>\n",
       "    </tr>\n",
       "    <tr>\n",
       "      <th>1264</th>\n",
       "      <td>0.730460</td>\n",
       "      <td>0.806825</td>\n",
       "      <td>1</td>\n",
       "      <td>0.514059</td>\n",
       "      <td>0</td>\n",
       "      <td>0.264027</td>\n",
       "      <td>0.598113</td>\n",
       "      <td>0.467218</td>\n",
       "      <td>0.769580</td>\n",
       "      <td>0.483954</td>\n",
       "      <td>...</td>\n",
       "      <td>0</td>\n",
       "      <td>0</td>\n",
       "      <td>0</td>\n",
       "      <td>0</td>\n",
       "      <td>0</td>\n",
       "      <td>0</td>\n",
       "      <td>0</td>\n",
       "      <td>1</td>\n",
       "      <td>0</td>\n",
       "      <td>0</td>\n",
       "    </tr>\n",
       "    <tr>\n",
       "      <th>1874</th>\n",
       "      <td>0.624543</td>\n",
       "      <td>0.554727</td>\n",
       "      <td>1</td>\n",
       "      <td>0.384172</td>\n",
       "      <td>1</td>\n",
       "      <td>0.264027</td>\n",
       "      <td>0.365910</td>\n",
       "      <td>0.228742</td>\n",
       "      <td>0.228697</td>\n",
       "      <td>0.639932</td>\n",
       "      <td>...</td>\n",
       "      <td>0</td>\n",
       "      <td>0</td>\n",
       "      <td>1</td>\n",
       "      <td>0</td>\n",
       "      <td>0</td>\n",
       "      <td>0</td>\n",
       "      <td>0</td>\n",
       "      <td>0</td>\n",
       "      <td>0</td>\n",
       "      <td>0</td>\n",
       "    </tr>\n",
       "    <tr>\n",
       "      <th>81</th>\n",
       "      <td>0.783784</td>\n",
       "      <td>0.680703</td>\n",
       "      <td>1</td>\n",
       "      <td>0.505459</td>\n",
       "      <td>1</td>\n",
       "      <td>0.264027</td>\n",
       "      <td>0.515048</td>\n",
       "      <td>0.554108</td>\n",
       "      <td>0.418094</td>\n",
       "      <td>0.543896</td>\n",
       "      <td>...</td>\n",
       "      <td>0</td>\n",
       "      <td>0</td>\n",
       "      <td>0</td>\n",
       "      <td>0</td>\n",
       "      <td>1</td>\n",
       "      <td>0</td>\n",
       "      <td>0</td>\n",
       "      <td>0</td>\n",
       "      <td>0</td>\n",
       "      <td>0</td>\n",
       "    </tr>\n",
       "    <tr>\n",
       "      <th>...</th>\n",
       "      <td>...</td>\n",
       "      <td>...</td>\n",
       "      <td>...</td>\n",
       "      <td>...</td>\n",
       "      <td>...</td>\n",
       "      <td>...</td>\n",
       "      <td>...</td>\n",
       "      <td>...</td>\n",
       "      <td>...</td>\n",
       "      <td>...</td>\n",
       "      <td>...</td>\n",
       "      <td>...</td>\n",
       "      <td>...</td>\n",
       "      <td>...</td>\n",
       "      <td>...</td>\n",
       "      <td>...</td>\n",
       "      <td>...</td>\n",
       "      <td>...</td>\n",
       "      <td>...</td>\n",
       "      <td>...</td>\n",
       "      <td>...</td>\n",
       "    </tr>\n",
       "    <tr>\n",
       "      <th>756</th>\n",
       "      <td>0.862673</td>\n",
       "      <td>0.708388</td>\n",
       "      <td>1</td>\n",
       "      <td>0.673327</td>\n",
       "      <td>0</td>\n",
       "      <td>0.355855</td>\n",
       "      <td>0.486099</td>\n",
       "      <td>0.304491</td>\n",
       "      <td>0.419377</td>\n",
       "      <td>0.607094</td>\n",
       "      <td>...</td>\n",
       "      <td>1</td>\n",
       "      <td>0</td>\n",
       "      <td>0</td>\n",
       "      <td>0</td>\n",
       "      <td>0</td>\n",
       "      <td>0</td>\n",
       "      <td>1</td>\n",
       "      <td>0</td>\n",
       "      <td>0</td>\n",
       "      <td>0</td>\n",
       "    </tr>\n",
       "    <tr>\n",
       "      <th>1990</th>\n",
       "      <td>0.678050</td>\n",
       "      <td>0.686308</td>\n",
       "      <td>1</td>\n",
       "      <td>0.421304</td>\n",
       "      <td>0</td>\n",
       "      <td>0.459233</td>\n",
       "      <td>0.620069</td>\n",
       "      <td>0.691238</td>\n",
       "      <td>0.691139</td>\n",
       "      <td>0.240712</td>\n",
       "      <td>...</td>\n",
       "      <td>0</td>\n",
       "      <td>0</td>\n",
       "      <td>1</td>\n",
       "      <td>0</td>\n",
       "      <td>0</td>\n",
       "      <td>0</td>\n",
       "      <td>0</td>\n",
       "      <td>0</td>\n",
       "      <td>0</td>\n",
       "      <td>0</td>\n",
       "    </tr>\n",
       "    <tr>\n",
       "      <th>1067</th>\n",
       "      <td>0.602630</td>\n",
       "      <td>0.631935</td>\n",
       "      <td>1</td>\n",
       "      <td>0.609143</td>\n",
       "      <td>0</td>\n",
       "      <td>0.459233</td>\n",
       "      <td>0.713477</td>\n",
       "      <td>0.536439</td>\n",
       "      <td>0.535264</td>\n",
       "      <td>0.650545</td>\n",
       "      <td>...</td>\n",
       "      <td>1</td>\n",
       "      <td>0</td>\n",
       "      <td>0</td>\n",
       "      <td>0</td>\n",
       "      <td>0</td>\n",
       "      <td>1</td>\n",
       "      <td>0</td>\n",
       "      <td>0</td>\n",
       "      <td>0</td>\n",
       "      <td>0</td>\n",
       "    </tr>\n",
       "    <tr>\n",
       "      <th>1035</th>\n",
       "      <td>0.474799</td>\n",
       "      <td>0.353671</td>\n",
       "      <td>0</td>\n",
       "      <td>0.581295</td>\n",
       "      <td>0</td>\n",
       "      <td>0.355855</td>\n",
       "      <td>0.680596</td>\n",
       "      <td>0.518915</td>\n",
       "      <td>0.613024</td>\n",
       "      <td>0.619747</td>\n",
       "      <td>...</td>\n",
       "      <td>0</td>\n",
       "      <td>1</td>\n",
       "      <td>0</td>\n",
       "      <td>1</td>\n",
       "      <td>0</td>\n",
       "      <td>0</td>\n",
       "      <td>0</td>\n",
       "      <td>0</td>\n",
       "      <td>0</td>\n",
       "      <td>0</td>\n",
       "    </tr>\n",
       "    <tr>\n",
       "      <th>2697</th>\n",
       "      <td>0.766983</td>\n",
       "      <td>0.753717</td>\n",
       "      <td>1</td>\n",
       "      <td>0.490019</td>\n",
       "      <td>0</td>\n",
       "      <td>0.355855</td>\n",
       "      <td>0.515048</td>\n",
       "      <td>0.644628</td>\n",
       "      <td>0.469476</td>\n",
       "      <td>0.650545</td>\n",
       "      <td>...</td>\n",
       "      <td>0</td>\n",
       "      <td>0</td>\n",
       "      <td>0</td>\n",
       "      <td>0</td>\n",
       "      <td>0</td>\n",
       "      <td>0</td>\n",
       "      <td>1</td>\n",
       "      <td>0</td>\n",
       "      <td>0</td>\n",
       "      <td>0</td>\n",
       "    </tr>\n",
       "  </tbody>\n",
       "</table>\n",
       "<p>2097 rows × 27 columns</p>\n",
       "</div>"
      ],
      "text/plain": [
       "      10percentage  12percentage  CollegeTier  collegeGPA  CollegeCityTier  \\\n",
       "2674      0.730460      0.614935            1    0.422479                0   \n",
       "1082      0.710373      0.840744            1    0.766761                1   \n",
       "1264      0.730460      0.806825            1    0.514059                0   \n",
       "1874      0.624543      0.554727            1    0.384172                1   \n",
       "81        0.783784      0.680703            1    0.505459                1   \n",
       "...            ...           ...          ...         ...              ...   \n",
       "756       0.862673      0.708388            1    0.673327                0   \n",
       "1990      0.678050      0.686308            1    0.421304                0   \n",
       "1067      0.602630      0.631935            1    0.609143                0   \n",
       "1035      0.474799      0.353671            0    0.581295                0   \n",
       "2697      0.766983      0.753717            1    0.490019                0   \n",
       "\n",
       "      GraduationYear   English   Logical     Quant  conscientiousness  ...  \\\n",
       "2674        0.574755  0.585659  0.258587  0.438623           0.374289  ...   \n",
       "1082        0.355855  0.441876  0.484304  0.317245           0.673638  ...   \n",
       "1264        0.264027  0.598113  0.467218  0.769580           0.483954  ...   \n",
       "1874        0.264027  0.365910  0.228742  0.228697           0.639932  ...   \n",
       "81          0.264027  0.515048  0.554108  0.418094           0.543896  ...   \n",
       "...              ...       ...       ...       ...                ...  ...   \n",
       "756         0.355855  0.486099  0.304491  0.419377           0.607094  ...   \n",
       "1990        0.459233  0.620069  0.691238  0.691139           0.240712  ...   \n",
       "1067        0.459233  0.713477  0.536439  0.535264           0.650545  ...   \n",
       "1035        0.355855  0.680596  0.518915  0.613024           0.619747  ...   \n",
       "2697        0.355855  0.515048  0.644628  0.469476           0.650545  ...   \n",
       "\n",
       "      Degree_M.Tech./M.E.  Degree_MCA  Specialization_Other  \\\n",
       "2674                    0           0                     0   \n",
       "1082                    0           0                     0   \n",
       "1264                    0           0                     0   \n",
       "1874                    0           0                     1   \n",
       "81                      0           0                     0   \n",
       "...                   ...         ...                   ...   \n",
       "756                     1           0                     0   \n",
       "1990                    0           0                     1   \n",
       "1067                    1           0                     0   \n",
       "1035                    0           1                     0   \n",
       "2697                    0           0                     0   \n",
       "\n",
       "      Specialization_computer application  \\\n",
       "2674                                    0   \n",
       "1082                                    0   \n",
       "1264                                    0   \n",
       "1874                                    0   \n",
       "81                                      0   \n",
       "...                                   ...   \n",
       "756                                     0   \n",
       "1990                                    0   \n",
       "1067                                    0   \n",
       "1035                                    1   \n",
       "2697                                    0   \n",
       "\n",
       "      Specialization_computer engineering  \\\n",
       "2674                                    1   \n",
       "1082                                    0   \n",
       "1264                                    0   \n",
       "1874                                    0   \n",
       "81                                      1   \n",
       "...                                   ...   \n",
       "756                                     0   \n",
       "1990                                    0   \n",
       "1067                                    0   \n",
       "1035                                    0   \n",
       "2697                                    0   \n",
       "\n",
       "      Specialization_computer science & engineering  \\\n",
       "2674                                              0   \n",
       "1082                                              0   \n",
       "1264                                              0   \n",
       "1874                                              0   \n",
       "81                                                0   \n",
       "...                                             ...   \n",
       "756                                               0   \n",
       "1990                                              0   \n",
       "1067                                              1   \n",
       "1035                                              0   \n",
       "2697                                              0   \n",
       "\n",
       "      Specialization_electronics and communication engineering  \\\n",
       "2674                                                  0          \n",
       "1082                                                  0          \n",
       "1264                                                  0          \n",
       "1874                                                  0          \n",
       "81                                                    0          \n",
       "...                                                 ...          \n",
       "756                                                   1          \n",
       "1990                                                  0          \n",
       "1067                                                  0          \n",
       "1035                                                  0          \n",
       "2697                                                  1          \n",
       "\n",
       "      Specialization_electronics and electrical engineering  \\\n",
       "2674                                                  0       \n",
       "1082                                                  1       \n",
       "1264                                                  1       \n",
       "1874                                                  0       \n",
       "81                                                    0       \n",
       "...                                                 ...       \n",
       "756                                                   0       \n",
       "1990                                                  0       \n",
       "1067                                                  0       \n",
       "1035                                                  0       \n",
       "2697                                                  0       \n",
       "\n",
       "      Specialization_information technology  \\\n",
       "2674                                      0   \n",
       "1082                                      0   \n",
       "1264                                      0   \n",
       "1874                                      0   \n",
       "81                                        0   \n",
       "...                                     ...   \n",
       "756                                       0   \n",
       "1990                                      0   \n",
       "1067                                      0   \n",
       "1035                                      0   \n",
       "2697                                      0   \n",
       "\n",
       "      Specialization_mechanical engineering  \n",
       "2674                                      0  \n",
       "1082                                      0  \n",
       "1264                                      0  \n",
       "1874                                      0  \n",
       "81                                        0  \n",
       "...                                     ...  \n",
       "756                                       0  \n",
       "1990                                      0  \n",
       "1067                                      0  \n",
       "1035                                      0  \n",
       "2697                                      0  \n",
       "\n",
       "[2097 rows x 27 columns]"
      ]
     },
     "execution_count": 113,
     "metadata": {},
     "output_type": "execute_result"
    }
   ],
   "source": [
    "X_train"
   ]
  },
  {
   "cell_type": "code",
   "execution_count": 114,
   "metadata": {},
   "outputs": [],
   "source": [
    "pf = PolynomialFeatures(degree=2, include_bias=False)\n",
    "X_train_pf = pf.fit_transform(X_train)\n",
    "#X_train_df = pd.DataFrame(X_train_pf)"
   ]
  },
  {
   "cell_type": "code",
   "execution_count": 122,
   "metadata": {},
   "outputs": [],
   "source": [
    "col_pf = pf.get_feature_names(X_train.columns)"
   ]
  },
  {
   "cell_type": "code",
   "execution_count": 145,
   "metadata": {},
   "outputs": [
    {
     "data": {
      "text/plain": [
       "pandas.core.frame.DataFrame"
      ]
     },
     "execution_count": 145,
     "metadata": {},
     "output_type": "execute_result"
    }
   ],
   "source": [
    "type(col_pf_df)"
   ]
  },
  {
   "cell_type": "code",
   "execution_count": 123,
   "metadata": {},
   "outputs": [
    {
     "data": {
      "text/plain": [
       "LinearRegression(copy_X=True, fit_intercept=True, n_jobs=None, normalize=False)"
      ]
     },
     "execution_count": 123,
     "metadata": {},
     "output_type": "execute_result"
    }
   ],
   "source": [
    "lr.fit(X_train_pf,y_train)"
   ]
  },
  {
   "cell_type": "code",
   "execution_count": 124,
   "metadata": {},
   "outputs": [],
   "source": [
    "X_test_pf = pf.fit_transform(X_test)\n",
    "y_pred = lr.predict(X_test_pf)"
   ]
  },
  {
   "cell_type": "code",
   "execution_count": 125,
   "metadata": {},
   "outputs": [
    {
     "data": {
      "text/plain": [
       "-0.001112349178703953"
      ]
     },
     "execution_count": 125,
     "metadata": {},
     "output_type": "execute_result"
    }
   ],
   "source": [
    "r2_score(y_pred,y_test)"
   ]
  },
  {
   "cell_type": "code",
   "execution_count": 126,
   "metadata": {},
   "outputs": [],
   "source": [
    "y_pred_df = pd.DataFrame(y_pred)"
   ]
  },
  {
   "cell_type": "code",
   "execution_count": 128,
   "metadata": {},
   "outputs": [
    {
     "data": {
      "text/html": [
       "<div>\n",
       "<style scoped>\n",
       "    .dataframe tbody tr th:only-of-type {\n",
       "        vertical-align: middle;\n",
       "    }\n",
       "\n",
       "    .dataframe tbody tr th {\n",
       "        vertical-align: top;\n",
       "    }\n",
       "\n",
       "    .dataframe thead th {\n",
       "        text-align: right;\n",
       "    }\n",
       "</style>\n",
       "<table border=\"1\" class=\"dataframe\">\n",
       "  <thead>\n",
       "    <tr style=\"text-align: right;\">\n",
       "      <th></th>\n",
       "      <th>0</th>\n",
       "    </tr>\n",
       "  </thead>\n",
       "  <tbody>\n",
       "    <tr>\n",
       "      <th>count</th>\n",
       "      <td>9.000000e+02</td>\n",
       "    </tr>\n",
       "    <tr>\n",
       "      <th>mean</th>\n",
       "      <td>8.070190e+05</td>\n",
       "    </tr>\n",
       "    <tr>\n",
       "      <th>std</th>\n",
       "      <td>2.421003e+07</td>\n",
       "    </tr>\n",
       "    <tr>\n",
       "      <th>min</th>\n",
       "      <td>1.443489e+01</td>\n",
       "    </tr>\n",
       "    <tr>\n",
       "      <th>25%</th>\n",
       "      <td>1.760091e+01</td>\n",
       "    </tr>\n",
       "    <tr>\n",
       "      <th>50%</th>\n",
       "      <td>1.802919e+01</td>\n",
       "    </tr>\n",
       "    <tr>\n",
       "      <th>75%</th>\n",
       "      <td>1.849717e+01</td>\n",
       "    </tr>\n",
       "    <tr>\n",
       "      <th>max</th>\n",
       "      <td>7.263009e+08</td>\n",
       "    </tr>\n",
       "  </tbody>\n",
       "</table>\n",
       "</div>"
      ],
      "text/plain": [
       "                  0\n",
       "count  9.000000e+02\n",
       "mean   8.070190e+05\n",
       "std    2.421003e+07\n",
       "min    1.443489e+01\n",
       "25%    1.760091e+01\n",
       "50%    1.802919e+01\n",
       "75%    1.849717e+01\n",
       "max    7.263009e+08"
      ]
     },
     "execution_count": 128,
     "metadata": {},
     "output_type": "execute_result"
    }
   ],
   "source": [
    "pd.DataFrame(y_pred).describe()"
   ]
  },
  {
   "cell_type": "code",
   "execution_count": 176,
   "metadata": {},
   "outputs": [],
   "source": [
    "lr_corf_pf = pd.DataFrame(list(zip(col_pf, lr.coef_.tolist())), columns =['Column_Name', 'Coefficient'])"
   ]
  },
  {
   "cell_type": "code",
   "execution_count": 177,
   "metadata": {},
   "outputs": [
    {
     "data": {
      "text/html": [
       "<div>\n",
       "<style scoped>\n",
       "    .dataframe tbody tr th:only-of-type {\n",
       "        vertical-align: middle;\n",
       "    }\n",
       "\n",
       "    .dataframe tbody tr th {\n",
       "        vertical-align: top;\n",
       "    }\n",
       "\n",
       "    .dataframe thead th {\n",
       "        text-align: right;\n",
       "    }\n",
       "</style>\n",
       "<table border=\"1\" class=\"dataframe\">\n",
       "  <thead>\n",
       "    <tr style=\"text-align: right;\">\n",
       "      <th></th>\n",
       "      <th>Column_Name</th>\n",
       "      <th>Coefficient</th>\n",
       "    </tr>\n",
       "  </thead>\n",
       "  <tbody>\n",
       "    <tr>\n",
       "      <th>0</th>\n",
       "      <td>10percentage</td>\n",
       "      <td>-2.048183e+09</td>\n",
       "    </tr>\n",
       "    <tr>\n",
       "      <th>1</th>\n",
       "      <td>12percentage</td>\n",
       "      <td>-1.247745e+09</td>\n",
       "    </tr>\n",
       "    <tr>\n",
       "      <th>2</th>\n",
       "      <td>CollegeTier</td>\n",
       "      <td>3.907552e+08</td>\n",
       "    </tr>\n",
       "    <tr>\n",
       "      <th>3</th>\n",
       "      <td>collegeGPA</td>\n",
       "      <td>9.638189e+09</td>\n",
       "    </tr>\n",
       "    <tr>\n",
       "      <th>4</th>\n",
       "      <td>CollegeCityTier</td>\n",
       "      <td>5.520716e+08</td>\n",
       "    </tr>\n",
       "    <tr>\n",
       "      <th>...</th>\n",
       "      <td>...</td>\n",
       "      <td>...</td>\n",
       "    </tr>\n",
       "    <tr>\n",
       "      <th>400</th>\n",
       "      <td>Specialization_electronics and electrical engi...</td>\n",
       "      <td>0.000000e+00</td>\n",
       "    </tr>\n",
       "    <tr>\n",
       "      <th>401</th>\n",
       "      <td>Specialization_electronics and electrical engi...</td>\n",
       "      <td>0.000000e+00</td>\n",
       "    </tr>\n",
       "    <tr>\n",
       "      <th>402</th>\n",
       "      <td>Specialization_information technology^2</td>\n",
       "      <td>-3.647964e+08</td>\n",
       "    </tr>\n",
       "    <tr>\n",
       "      <th>403</th>\n",
       "      <td>Specialization_information technology Speciali...</td>\n",
       "      <td>0.000000e+00</td>\n",
       "    </tr>\n",
       "    <tr>\n",
       "      <th>404</th>\n",
       "      <td>Specialization_mechanical engineering^2</td>\n",
       "      <td>5.304409e+08</td>\n",
       "    </tr>\n",
       "  </tbody>\n",
       "</table>\n",
       "<p>405 rows × 2 columns</p>\n",
       "</div>"
      ],
      "text/plain": [
       "                                           Column_Name   Coefficient\n",
       "0                                         10percentage -2.048183e+09\n",
       "1                                         12percentage -1.247745e+09\n",
       "2                                          CollegeTier  3.907552e+08\n",
       "3                                           collegeGPA  9.638189e+09\n",
       "4                                      CollegeCityTier  5.520716e+08\n",
       "..                                                 ...           ...\n",
       "400  Specialization_electronics and electrical engi...  0.000000e+00\n",
       "401  Specialization_electronics and electrical engi...  0.000000e+00\n",
       "402            Specialization_information technology^2 -3.647964e+08\n",
       "403  Specialization_information technology Speciali...  0.000000e+00\n",
       "404            Specialization_mechanical engineering^2  5.304409e+08\n",
       "\n",
       "[405 rows x 2 columns]"
      ]
     },
     "execution_count": 177,
     "metadata": {},
     "output_type": "execute_result"
    }
   ],
   "source": [
    "lr_corf_pf"
   ]
  },
  {
   "cell_type": "code",
   "execution_count": 183,
   "metadata": {},
   "outputs": [],
   "source": [
    "col_zero_impact = lr_corf_pf.where(lr_corf_pf[\"Coefficient\"] == 0).dropna()"
   ]
  },
  {
   "cell_type": "code",
   "execution_count": 184,
   "metadata": {},
   "outputs": [],
   "source": [
    "col_with_impact = lr_corf_pf.where(lr_corf_pf[\"Coefficient\"] != 0).dropna()"
   ]
  },
  {
   "cell_type": "code",
   "execution_count": 192,
   "metadata": {},
   "outputs": [
    {
     "data": {
      "text/html": [
       "<div>\n",
       "<style scoped>\n",
       "    .dataframe tbody tr th:only-of-type {\n",
       "        vertical-align: middle;\n",
       "    }\n",
       "\n",
       "    .dataframe tbody tr th {\n",
       "        vertical-align: top;\n",
       "    }\n",
       "\n",
       "    .dataframe thead th {\n",
       "        text-align: right;\n",
       "    }\n",
       "</style>\n",
       "<table border=\"1\" class=\"dataframe\">\n",
       "  <thead>\n",
       "    <tr style=\"text-align: right;\">\n",
       "      <th></th>\n",
       "      <th>Column_Name</th>\n",
       "      <th>Coefficient</th>\n",
       "    </tr>\n",
       "  </thead>\n",
       "  <tbody>\n",
       "    <tr>\n",
       "      <th>173</th>\n",
       "      <td>GraduationYear Specialization_mechanical engin...</td>\n",
       "      <td>-9.218020e+10</td>\n",
       "    </tr>\n",
       "    <tr>\n",
       "      <th>172</th>\n",
       "      <td>GraduationYear Specialization_information tech...</td>\n",
       "      <td>-9.218020e+10</td>\n",
       "    </tr>\n",
       "    <tr>\n",
       "      <th>171</th>\n",
       "      <td>GraduationYear Specialization_electronics and ...</td>\n",
       "      <td>-9.218020e+10</td>\n",
       "    </tr>\n",
       "    <tr>\n",
       "      <th>170</th>\n",
       "      <td>GraduationYear Specialization_electronics and ...</td>\n",
       "      <td>-9.218020e+10</td>\n",
       "    </tr>\n",
       "    <tr>\n",
       "      <th>168</th>\n",
       "      <td>GraduationYear Specialization_computer enginee...</td>\n",
       "      <td>-9.218020e+10</td>\n",
       "    </tr>\n",
       "    <tr>\n",
       "      <th>166</th>\n",
       "      <td>GraduationYear Specialization_Other</td>\n",
       "      <td>-9.218020e+10</td>\n",
       "    </tr>\n",
       "    <tr>\n",
       "      <th>169</th>\n",
       "      <td>GraduationYear Specialization_computer science...</td>\n",
       "      <td>-9.218020e+10</td>\n",
       "    </tr>\n",
       "    <tr>\n",
       "      <th>165</th>\n",
       "      <td>GraduationYear Degree_MCA</td>\n",
       "      <td>-4.589623e+10</td>\n",
       "    </tr>\n",
       "    <tr>\n",
       "      <th>167</th>\n",
       "      <td>GraduationYear Specialization_computer applica...</td>\n",
       "      <td>-4.577445e+10</td>\n",
       "    </tr>\n",
       "    <tr>\n",
       "      <th>13</th>\n",
       "      <td>openess_to_experience</td>\n",
       "      <td>-4.526423e+10</td>\n",
       "    </tr>\n",
       "    <tr>\n",
       "      <th>261</th>\n",
       "      <td>agreeableness Specialization_Other</td>\n",
       "      <td>-4.425448e+10</td>\n",
       "    </tr>\n",
       "    <tr>\n",
       "      <th>268</th>\n",
       "      <td>agreeableness Specialization_mechanical engine...</td>\n",
       "      <td>-4.425448e+10</td>\n",
       "    </tr>\n",
       "    <tr>\n",
       "      <th>264</th>\n",
       "      <td>agreeableness Specialization_computer science ...</td>\n",
       "      <td>-4.425448e+10</td>\n",
       "    </tr>\n",
       "    <tr>\n",
       "      <th>265</th>\n",
       "      <td>agreeableness Specialization_electronics and c...</td>\n",
       "      <td>-4.425448e+10</td>\n",
       "    </tr>\n",
       "    <tr>\n",
       "      <th>267</th>\n",
       "      <td>agreeableness Specialization_information techn...</td>\n",
       "      <td>-4.425448e+10</td>\n",
       "    </tr>\n",
       "    <tr>\n",
       "      <th>263</th>\n",
       "      <td>agreeableness Specialization_computer engineering</td>\n",
       "      <td>-4.425448e+10</td>\n",
       "    </tr>\n",
       "    <tr>\n",
       "      <th>266</th>\n",
       "      <td>agreeableness Specialization_electronics and e...</td>\n",
       "      <td>-4.425448e+10</td>\n",
       "    </tr>\n",
       "    <tr>\n",
       "      <th>9</th>\n",
       "      <td>conscientiousness</td>\n",
       "      <td>-2.783038e+10</td>\n",
       "    </tr>\n",
       "    <tr>\n",
       "      <th>12</th>\n",
       "      <td>nueroticism</td>\n",
       "      <td>-1.517559e+10</td>\n",
       "    </tr>\n",
       "    <tr>\n",
       "      <th>260</th>\n",
       "      <td>agreeableness Degree_MCA</td>\n",
       "      <td>-1.380824e+10</td>\n",
       "    </tr>\n",
       "    <tr>\n",
       "      <th>262</th>\n",
       "      <td>agreeableness Specialization_computer application</td>\n",
       "      <td>-1.376000e+10</td>\n",
       "    </tr>\n",
       "    <tr>\n",
       "      <th>11</th>\n",
       "      <td>extraversion</td>\n",
       "      <td>-1.194155e+10</td>\n",
       "    </tr>\n",
       "    <tr>\n",
       "      <th>123</th>\n",
       "      <td>collegeGPA Specialization_computer engineering</td>\n",
       "      <td>-1.161321e+10</td>\n",
       "    </tr>\n",
       "    <tr>\n",
       "      <th>126</th>\n",
       "      <td>collegeGPA Specialization_electronics and elec...</td>\n",
       "      <td>-1.161321e+10</td>\n",
       "    </tr>\n",
       "    <tr>\n",
       "      <th>128</th>\n",
       "      <td>collegeGPA Specialization_mechanical engineering</td>\n",
       "      <td>-1.161321e+10</td>\n",
       "    </tr>\n",
       "    <tr>\n",
       "      <th>121</th>\n",
       "      <td>collegeGPA Specialization_Other</td>\n",
       "      <td>-1.161321e+10</td>\n",
       "    </tr>\n",
       "    <tr>\n",
       "      <th>124</th>\n",
       "      <td>collegeGPA Specialization_computer science &amp; e...</td>\n",
       "      <td>-1.161321e+10</td>\n",
       "    </tr>\n",
       "    <tr>\n",
       "      <th>125</th>\n",
       "      <td>collegeGPA Specialization_electronics and comm...</td>\n",
       "      <td>-1.161321e+10</td>\n",
       "    </tr>\n",
       "    <tr>\n",
       "      <th>127</th>\n",
       "      <td>collegeGPA Specialization_information technology</td>\n",
       "      <td>-1.161321e+10</td>\n",
       "    </tr>\n",
       "    <tr>\n",
       "      <th>224</th>\n",
       "      <td>Quant Degree_M.Tech./M.E.</td>\n",
       "      <td>-1.061066e+10</td>\n",
       "    </tr>\n",
       "    <tr>\n",
       "      <th>222</th>\n",
       "      <td>Quant Degree_B.Tech/B.E.</td>\n",
       "      <td>-1.061066e+10</td>\n",
       "    </tr>\n",
       "    <tr>\n",
       "      <th>8</th>\n",
       "      <td>Quant</td>\n",
       "      <td>-1.054801e+10</td>\n",
       "    </tr>\n",
       "    <tr>\n",
       "      <th>203</th>\n",
       "      <td>Logical Degree_B.Tech/B.E.</td>\n",
       "      <td>-7.394326e+09</td>\n",
       "    </tr>\n",
       "    <tr>\n",
       "      <th>205</th>\n",
       "      <td>Logical Degree_M.Tech./M.E.</td>\n",
       "      <td>-7.394326e+09</td>\n",
       "    </tr>\n",
       "    <tr>\n",
       "      <th>44</th>\n",
       "      <td>10percentage Degree_M.Tech./M.E.</td>\n",
       "      <td>-5.519995e+09</td>\n",
       "    </tr>\n",
       "    <tr>\n",
       "      <th>42</th>\n",
       "      <td>10percentage Degree_B.Tech/B.E.</td>\n",
       "      <td>-5.519995e+09</td>\n",
       "    </tr>\n",
       "    <tr>\n",
       "      <th>183</th>\n",
       "      <td>English Degree_B.Tech/B.E.</td>\n",
       "      <td>-4.983616e+09</td>\n",
       "    </tr>\n",
       "    <tr>\n",
       "      <th>185</th>\n",
       "      <td>English Degree_M.Tech./M.E.</td>\n",
       "      <td>-4.983616e+09</td>\n",
       "    </tr>\n",
       "    <tr>\n",
       "      <th>120</th>\n",
       "      <td>collegeGPA Degree_MCA</td>\n",
       "      <td>-4.845152e+09</td>\n",
       "    </tr>\n",
       "    <tr>\n",
       "      <th>122</th>\n",
       "      <td>collegeGPA Specialization_computer application</td>\n",
       "      <td>-4.793037e+09</td>\n",
       "    </tr>\n",
       "    <tr>\n",
       "      <th>7</th>\n",
       "      <td>Logical</td>\n",
       "      <td>-4.290338e+09</td>\n",
       "    </tr>\n",
       "    <tr>\n",
       "      <th>17</th>\n",
       "      <td>Degree_M.Tech./M.E.</td>\n",
       "      <td>-3.962290e+09</td>\n",
       "    </tr>\n",
       "    <tr>\n",
       "      <th>15</th>\n",
       "      <td>Degree_B.Tech/B.E.</td>\n",
       "      <td>-2.106284e+09</td>\n",
       "    </tr>\n",
       "    <tr>\n",
       "      <th>0</th>\n",
       "      <td>10percentage</td>\n",
       "      <td>-2.048183e+09</td>\n",
       "    </tr>\n",
       "    <tr>\n",
       "      <th>273</th>\n",
       "      <td>extraversion Degree_B.Tech/B.E.</td>\n",
       "      <td>-1.901737e+09</td>\n",
       "    </tr>\n",
       "    <tr>\n",
       "      <th>275</th>\n",
       "      <td>extraversion Degree_M.Tech./M.E.</td>\n",
       "      <td>-1.901737e+09</td>\n",
       "    </tr>\n",
       "    <tr>\n",
       "      <th>23</th>\n",
       "      <td>Specialization_electronics and communication e...</td>\n",
       "      <td>-1.744509e+09</td>\n",
       "    </tr>\n",
       "    <tr>\n",
       "      <th>327</th>\n",
       "      <td>Degree_B.Tech/B.E.^2</td>\n",
       "      <td>-1.639756e+09</td>\n",
       "    </tr>\n",
       "    <tr>\n",
       "      <th>6</th>\n",
       "      <td>English</td>\n",
       "      <td>-1.417799e+09</td>\n",
       "    </tr>\n",
       "    <tr>\n",
       "      <th>1</th>\n",
       "      <td>12percentage</td>\n",
       "      <td>-1.247745e+09</td>\n",
       "    </tr>\n",
       "  </tbody>\n",
       "</table>\n",
       "</div>"
      ],
      "text/plain": [
       "                                           Column_Name   Coefficient\n",
       "173  GraduationYear Specialization_mechanical engin... -9.218020e+10\n",
       "172  GraduationYear Specialization_information tech... -9.218020e+10\n",
       "171  GraduationYear Specialization_electronics and ... -9.218020e+10\n",
       "170  GraduationYear Specialization_electronics and ... -9.218020e+10\n",
       "168  GraduationYear Specialization_computer enginee... -9.218020e+10\n",
       "166                GraduationYear Specialization_Other -9.218020e+10\n",
       "169  GraduationYear Specialization_computer science... -9.218020e+10\n",
       "165                          GraduationYear Degree_MCA -4.589623e+10\n",
       "167  GraduationYear Specialization_computer applica... -4.577445e+10\n",
       "13                               openess_to_experience -4.526423e+10\n",
       "261                 agreeableness Specialization_Other -4.425448e+10\n",
       "268  agreeableness Specialization_mechanical engine... -4.425448e+10\n",
       "264  agreeableness Specialization_computer science ... -4.425448e+10\n",
       "265  agreeableness Specialization_electronics and c... -4.425448e+10\n",
       "267  agreeableness Specialization_information techn... -4.425448e+10\n",
       "263  agreeableness Specialization_computer engineering -4.425448e+10\n",
       "266  agreeableness Specialization_electronics and e... -4.425448e+10\n",
       "9                                    conscientiousness -2.783038e+10\n",
       "12                                         nueroticism -1.517559e+10\n",
       "260                           agreeableness Degree_MCA -1.380824e+10\n",
       "262  agreeableness Specialization_computer application -1.376000e+10\n",
       "11                                        extraversion -1.194155e+10\n",
       "123     collegeGPA Specialization_computer engineering -1.161321e+10\n",
       "126  collegeGPA Specialization_electronics and elec... -1.161321e+10\n",
       "128   collegeGPA Specialization_mechanical engineering -1.161321e+10\n",
       "121                    collegeGPA Specialization_Other -1.161321e+10\n",
       "124  collegeGPA Specialization_computer science & e... -1.161321e+10\n",
       "125  collegeGPA Specialization_electronics and comm... -1.161321e+10\n",
       "127   collegeGPA Specialization_information technology -1.161321e+10\n",
       "224                          Quant Degree_M.Tech./M.E. -1.061066e+10\n",
       "222                           Quant Degree_B.Tech/B.E. -1.061066e+10\n",
       "8                                                Quant -1.054801e+10\n",
       "203                         Logical Degree_B.Tech/B.E. -7.394326e+09\n",
       "205                        Logical Degree_M.Tech./M.E. -7.394326e+09\n",
       "44                    10percentage Degree_M.Tech./M.E. -5.519995e+09\n",
       "42                     10percentage Degree_B.Tech/B.E. -5.519995e+09\n",
       "183                         English Degree_B.Tech/B.E. -4.983616e+09\n",
       "185                        English Degree_M.Tech./M.E. -4.983616e+09\n",
       "120                              collegeGPA Degree_MCA -4.845152e+09\n",
       "122     collegeGPA Specialization_computer application -4.793037e+09\n",
       "7                                              Logical -4.290338e+09\n",
       "17                                 Degree_M.Tech./M.E. -3.962290e+09\n",
       "15                                  Degree_B.Tech/B.E. -2.106284e+09\n",
       "0                                         10percentage -2.048183e+09\n",
       "273                    extraversion Degree_B.Tech/B.E. -1.901737e+09\n",
       "275                   extraversion Degree_M.Tech./M.E. -1.901737e+09\n",
       "23   Specialization_electronics and communication e... -1.744509e+09\n",
       "327                               Degree_B.Tech/B.E.^2 -1.639756e+09\n",
       "6                                              English -1.417799e+09\n",
       "1                                         12percentage -1.247745e+09"
      ]
     },
     "execution_count": 192,
     "metadata": {},
     "output_type": "execute_result"
    }
   ],
   "source": [
    "col_with_impact.sort_values(by = \"Coefficient\", ascending=True).head(50)"
   ]
  },
  {
   "cell_type": "code",
   "execution_count": 198,
   "metadata": {},
   "outputs": [
    {
     "name": "stdout",
     "output_type": "stream",
     "text": [
      "    Column_Name   Coefficient\n",
      "1  12percentage -1.247745e+09\n"
     ]
    }
   ],
   "source": [
    "print(col_with_impact.loc[col_with_impact['Column_Name'] == \"12percentage\"])"
   ]
  },
  {
   "cell_type": "code",
   "execution_count": 190,
   "metadata": {},
   "outputs": [
    {
     "ename": "SyntaxError",
     "evalue": "keyword can't be an expression (<ipython-input-190-0380880784d8>, line 1)",
     "output_type": "error",
     "traceback": [
      "\u001b[0;36m  File \u001b[0;32m\"<ipython-input-190-0380880784d8>\"\u001b[0;36m, line \u001b[0;32m1\u001b[0m\n\u001b[0;31m    col = col_with_impact.where(col_with_impact[\"Column_Name\"] = \"GraduationYear\")\u001b[0m\n\u001b[0m                               ^\u001b[0m\n\u001b[0;31mSyntaxError\u001b[0m\u001b[0;31m:\u001b[0m keyword can't be an expression\n"
     ]
    }
   ],
   "source": []
  },
  {
   "cell_type": "code",
   "execution_count": 182,
   "metadata": {},
   "outputs": [
    {
     "data": {
      "text/html": [
       "<div>\n",
       "<style scoped>\n",
       "    .dataframe tbody tr th:only-of-type {\n",
       "        vertical-align: middle;\n",
       "    }\n",
       "\n",
       "    .dataframe tbody tr th {\n",
       "        vertical-align: top;\n",
       "    }\n",
       "\n",
       "    .dataframe thead th {\n",
       "        text-align: right;\n",
       "    }\n",
       "</style>\n",
       "<table border=\"1\" class=\"dataframe\">\n",
       "  <thead>\n",
       "    <tr style=\"text-align: right;\">\n",
       "      <th></th>\n",
       "      <th>Column_Name</th>\n",
       "      <th>Coefficient</th>\n",
       "    </tr>\n",
       "  </thead>\n",
       "  <tbody>\n",
       "    <tr>\n",
       "      <th>0</th>\n",
       "      <td>GraduationYear</td>\n",
       "      <td>-2.048183e+09</td>\n",
       "    </tr>\n",
       "    <tr>\n",
       "      <th>1</th>\n",
       "      <td>GraduationYear</td>\n",
       "      <td>-1.247745e+09</td>\n",
       "    </tr>\n",
       "    <tr>\n",
       "      <th>2</th>\n",
       "      <td>GraduationYear</td>\n",
       "      <td>3.907552e+08</td>\n",
       "    </tr>\n",
       "    <tr>\n",
       "      <th>3</th>\n",
       "      <td>GraduationYear</td>\n",
       "      <td>9.638189e+09</td>\n",
       "    </tr>\n",
       "    <tr>\n",
       "      <th>4</th>\n",
       "      <td>GraduationYear</td>\n",
       "      <td>5.520716e+08</td>\n",
       "    </tr>\n",
       "    <tr>\n",
       "      <th>...</th>\n",
       "      <td>...</td>\n",
       "      <td>...</td>\n",
       "    </tr>\n",
       "    <tr>\n",
       "      <th>390</th>\n",
       "      <td>GraduationYear</td>\n",
       "      <td>-1.894640e+08</td>\n",
       "    </tr>\n",
       "    <tr>\n",
       "      <th>395</th>\n",
       "      <td>GraduationYear</td>\n",
       "      <td>1.809031e+09</td>\n",
       "    </tr>\n",
       "    <tr>\n",
       "      <th>399</th>\n",
       "      <td>GraduationYear</td>\n",
       "      <td>-1.057647e+09</td>\n",
       "    </tr>\n",
       "    <tr>\n",
       "      <th>402</th>\n",
       "      <td>GraduationYear</td>\n",
       "      <td>-3.647964e+08</td>\n",
       "    </tr>\n",
       "    <tr>\n",
       "      <th>404</th>\n",
       "      <td>GraduationYear</td>\n",
       "      <td>5.304409e+08</td>\n",
       "    </tr>\n",
       "  </tbody>\n",
       "</table>\n",
       "<p>354 rows × 2 columns</p>\n",
       "</div>"
      ],
      "text/plain": [
       "        Column_Name   Coefficient\n",
       "0    GraduationYear -2.048183e+09\n",
       "1    GraduationYear -1.247745e+09\n",
       "2    GraduationYear  3.907552e+08\n",
       "3    GraduationYear  9.638189e+09\n",
       "4    GraduationYear  5.520716e+08\n",
       "..              ...           ...\n",
       "390  GraduationYear -1.894640e+08\n",
       "395  GraduationYear  1.809031e+09\n",
       "399  GraduationYear -1.057647e+09\n",
       "402  GraduationYear -3.647964e+08\n",
       "404  GraduationYear  5.304409e+08\n",
       "\n",
       "[354 rows x 2 columns]"
      ]
     },
     "execution_count": 182,
     "metadata": {},
     "output_type": "execute_result"
    }
   ],
   "source": [
    "col_with_impact"
   ]
  },
  {
   "cell_type": "code",
   "execution_count": 129,
   "metadata": {},
   "outputs": [
    {
     "data": {
      "image/png": "[encoded data removed]",
      "text/plain": [
       "<Figure size 432x288 with 1 Axes>"
      ]
     },
     "metadata": {
      "needs_background": "light"
     },
     "output_type": "display_data"
    }
   ],
   "source": [
    "#plt.scatter(X_test.English, y_test, color = \"red\")\n",
    "plt.scatter(X_test.English, y_pred, color = \"green\")\n",
    "plt.title(\"Salary vs Experience (Training set)\")\n",
    "plt.xlabel(\"Years of Experience\")\n",
    "plt.ylabel(\"Salary\")\n",
    "plt.show()"
   ]
  },
  {
   "cell_type": "code",
   "execution_count": 127,
   "metadata": {},
   "outputs": [],
   "source": [
    "kf = KFold(shuffle=True, random_state=72018, n_splits=3)"
   ]
  },
  {
   "cell_type": "code",
   "execution_count": 128,
   "metadata": {},
   "outputs": [
    {
     "data": {
      "text/plain": [
       "array([1.00000000e-20, 5.73615251e-20, 3.29034456e-19, 1.88739182e-18,\n",
       "       1.08263673e-17, 6.21016942e-17, 3.56224789e-16, 2.04335972e-15,\n",
       "       1.17210230e-14, 6.72335754e-14, 3.85662042e-13, 2.21221629e-12,\n",
       "       1.26896100e-11, 7.27895384e-11, 4.17531894e-10, 2.39502662e-09,\n",
       "       1.37382380e-08, 7.88046282e-08, 4.52035366e-07, 2.59294380e-06,\n",
       "       1.48735211e-05, 8.53167852e-05, 4.89390092e-04, 2.80721620e-03,\n",
       "       1.61026203e-02, 9.23670857e-02, 5.29831691e-01, 3.03919538e+00,\n",
       "       1.74332882e+01, 1.00000000e+02])"
      ]
     },
     "execution_count": 128,
     "metadata": {},
     "output_type": "execute_result"
    }
   ],
   "source": [
    "alphas = np.geomspace(1e-20, 1e2, num=30)\n",
    "alphas"
   ]
  },
  {
   "cell_type": "code",
   "execution_count": 137,
   "metadata": {},
   "outputs": [],
   "source": [
    "scores_rg=[]\n",
    "for alpha in alphas:\n",
    "    ridge = Ridge(alpha=alpha, max_iter=100000)\n",
    "    y_pred_rg = cross_val_predict(ridge, X_pf, y, cv = kf)\n",
    "    score = r2_score(y, y_pred_rg)\n",
    "    scores_rg.append(score)"
   ]
  },
  {
   "cell_type": "code",
   "execution_count": 138,
   "metadata": {},
   "outputs": [
    {
     "data": {
      "text/plain": [
       "[-1346849360.7457623,\n",
       " -40934453.22578275,\n",
       " -1244264.2861179044,\n",
       " -37848.034255197315,\n",
       " -1155.8647000691442,\n",
       " -36.041930980664866,\n",
       " -1.1931404844452103,\n",
       " 0.008096526582538566,\n",
       " 0.06937964086395243,\n",
       " 0.07556128202376411,\n",
       " 0.07650212013806235,\n",
       " 0.07589169289570152,\n",
       " 0.07661343112758723,\n",
       " 0.0766855796898005,\n",
       " 0.07669426746444963,\n",
       " 0.07669514757254292,\n",
       " 0.07669563009111724,\n",
       " 0.07669603751490772,\n",
       " 0.07669829093143599,\n",
       " 0.07671115384264937,\n",
       " 0.07678486115208516,\n",
       " 0.077205350159684,\n",
       " 0.07954377132820911,\n",
       " 0.09090710993469708,\n",
       " 0.12344581426077128,\n",
       " 0.1634712961509478,\n",
       " 0.20664887970430923,\n",
       " 0.237249775396984,\n",
       " 0.24661711936957642,\n",
       " 0.24222184730189178]"
      ]
     },
     "execution_count": 138,
     "metadata": {},
     "output_type": "execute_result"
    }
   ],
   "source": [
    "scores_rg"
   ]
  },
  {
   "cell_type": "code",
   "execution_count": 139,
   "metadata": {},
   "outputs": [
    {
     "data": {
      "text/plain": [
       "0.008096526688315953"
      ]
     },
     "execution_count": 139,
     "metadata": {},
     "output_type": "execute_result"
    }
   ],
   "source": [
    "rg_1 = Ridge(alpha=2.04335972e-15)\n",
    "y_pred_rg = cross_val_predict(rg_1, X_pf, y, cv = kf)\n",
    "r2_score(y, y_pred_rg)"
   ]
  },
  {
   "cell_type": "code",
   "execution_count": 142,
   "metadata": {},
   "outputs": [
    {
     "data": {
      "text/plain": [
       "{'alpha': 2.04335972e-15,\n",
       " 'copy_X': True,\n",
       " 'fit_intercept': True,\n",
       " 'max_iter': None,\n",
       " 'normalize': False,\n",
       " 'random_state': None,\n",
       " 'solver': 'auto',\n",
       " 'tol': 0.001}"
      ]
     },
     "execution_count": 142,
     "metadata": {},
     "output_type": "execute_result"
    }
   ],
   "source": [
    "rg_1.get_params()"
   ]
  },
  {
   "cell_type": "code",
   "execution_count": 140,
   "metadata": {},
   "outputs": [
    {
     "data": {
      "image/png": "[encoded data removed]",
      "text/plain": [
       "<Figure size 432x288 with 1 Axes>"
      ]
     },
     "metadata": {
      "needs_background": "light"
     },
     "output_type": "display_data"
    }
   ],
   "source": [
    "plt.scatter(X[\"collegeGPA\"], y, color = \"red\")\n",
    "plt.scatter(X[\"collegeGPA\"], y_pred_rg, color = \"green\")\n",
    "plt.title(\"Salary vs 10percentage (Training set)\")\n",
    "plt.xlabel(\"Years of 10percentage\")\n",
    "plt.ylabel(\"Salary\")\n",
    "plt.show()"
   ]
  },
  {
   "cell_type": "code",
   "execution_count": null,
   "metadata": {},
   "outputs": [],
   "source": [
    "scores_ls=[]\n",
    "for alpha in alphas:\n",
    "    lasso = Lasso(alpha=alpha, max_iter=100000)\n",
    "    y_pred_rg = cross_val_predict(lasso, X_pf, y, cv = kf)\n",
    "    score = r2_score(y, y_pred_rg)\n",
    "    scores_ls.append(score)"
   ]
  },
  {
   "cell_type": "code",
   "execution_count": null,
   "metadata": {},
   "outputs": [],
   "source": [
    "scores_rg"
   ]
  },
  {
   "cell_type": "code",
   "execution_count": 143,
   "metadata": {},
   "outputs": [
    {
     "ename": "SyntaxError",
     "evalue": "invalid syntax (<ipython-input-143-07877be230ca>, line 1)",
     "output_type": "error",
     "traceback": [
      "\u001b[0;36m  File \u001b[0;32m\"<ipython-input-143-07877be230ca>\"\u001b[0;36m, line \u001b[0;32m1\u001b[0m\n\u001b[0;31m    jupyter nbconvert --execute --to pdf Salary_Prediction_clean_version.ipynb\u001b[0m\n\u001b[0m                    ^\u001b[0m\n\u001b[0;31mSyntaxError\u001b[0m\u001b[0;31m:\u001b[0m invalid syntax\n"
     ]
    }
   ],
   "source": []
  },
  {
   "cell_type": "code",
   "execution_count": null,
   "metadata": {},
   "outputs": [],
   "source": []
  },
  {
   "cell_type": "code",
   "execution_count": 20,
   "metadata": {},
   "outputs": [],
   "source": [
    "print(list(zip(lr.coef_, model_1_features)))"
   ]
  },
  {
   "cell_type": "code",
   "execution_count": 17,
   "metadata": {},
   "outputs": [
    {
     "data": {
      "text/plain": [
       "LinearRegression(copy_X=True, fit_intercept=True, n_jobs=None, normalize=False)"
      ]
     },
     "execution_count": 17,
     "metadata": {},
     "output_type": "execute_result"
    }
   ],
   "source": [
    "lr.fit(X_train_pf_s, y_train)"
   ]
  },
  {
   "cell_type": "code",
   "execution_count": 18,
   "metadata": {},
   "outputs": [],
   "source": [
    "X_test_pf_s = s.transform(X_test_pf)"
   ]
  },
  {
   "cell_type": "code",
   "execution_count": 19,
   "metadata": {},
   "outputs": [],
   "source": [
    "y_pred = lr.predict(X_test_pf_s)"
   ]
  },
  {
   "cell_type": "code",
   "execution_count": 63,
   "metadata": {},
   "outputs": [
    {
     "data": {
      "text/plain": [
       "-0.0002927365541733895"
      ]
     },
     "execution_count": 63,
     "metadata": {},
     "output_type": "execute_result"
    }
   ],
   "source": [
    "r2_score"
   ]
  },
  {
   "cell_type": "code",
   "execution_count": 53,
   "metadata": {},
   "outputs": [],
   "source": [
    "coefficients = pd.DataFrame()\n",
    "coefficients['linear regression'] = lr.coef_.ravel()"
   ]
  },
  {
   "cell_type": "code",
   "execution_count": 54,
   "metadata": {},
   "outputs": [
    {
     "data": {
      "text/html": [
       "<div>\n",
       "<style scoped>\n",
       "    .dataframe tbody tr th:only-of-type {\n",
       "        vertical-align: middle;\n",
       "    }\n",
       "\n",
       "    .dataframe tbody tr th {\n",
       "        vertical-align: top;\n",
       "    }\n",
       "\n",
       "    .dataframe thead th {\n",
       "        text-align: right;\n",
       "    }\n",
       "</style>\n",
       "<table border=\"1\" class=\"dataframe\">\n",
       "  <thead>\n",
       "    <tr style=\"text-align: right;\">\n",
       "      <th></th>\n",
       "      <th>linear regression</th>\n",
       "    </tr>\n",
       "  </thead>\n",
       "  <tbody>\n",
       "    <tr>\n",
       "      <th>0</th>\n",
       "      <td>-4.250657e+09</td>\n",
       "    </tr>\n",
       "    <tr>\n",
       "      <th>1</th>\n",
       "      <td>-4.006730e+09</td>\n",
       "    </tr>\n",
       "    <tr>\n",
       "      <th>2</th>\n",
       "      <td>-3.608320e+09</td>\n",
       "    </tr>\n",
       "    <tr>\n",
       "      <th>3</th>\n",
       "      <td>-3.012121e+09</td>\n",
       "    </tr>\n",
       "    <tr>\n",
       "      <th>4</th>\n",
       "      <td>-2.814919e+09</td>\n",
       "    </tr>\n",
       "    <tr>\n",
       "      <th>...</th>\n",
       "      <td>...</td>\n",
       "    </tr>\n",
       "    <tr>\n",
       "      <th>4054</th>\n",
       "      <td>2.296648e+09</td>\n",
       "    </tr>\n",
       "    <tr>\n",
       "      <th>4055</th>\n",
       "      <td>2.344451e+09</td>\n",
       "    </tr>\n",
       "    <tr>\n",
       "      <th>4056</th>\n",
       "      <td>2.471911e+09</td>\n",
       "    </tr>\n",
       "    <tr>\n",
       "      <th>4057</th>\n",
       "      <td>2.499093e+09</td>\n",
       "    </tr>\n",
       "    <tr>\n",
       "      <th>4058</th>\n",
       "      <td>2.695097e+09</td>\n",
       "    </tr>\n",
       "  </tbody>\n",
       "</table>\n",
       "<p>4059 rows × 1 columns</p>\n",
       "</div>"
      ],
      "text/plain": [
       "      linear regression\n",
       "0         -4.250657e+09\n",
       "1         -4.006730e+09\n",
       "2         -3.608320e+09\n",
       "3         -3.012121e+09\n",
       "4         -2.814919e+09\n",
       "...                 ...\n",
       "4054       2.296648e+09\n",
       "4055       2.344451e+09\n",
       "4056       2.471911e+09\n",
       "4057       2.499093e+09\n",
       "4058       2.695097e+09\n",
       "\n",
       "[4059 rows x 1 columns]"
      ]
     },
     "execution_count": 54,
     "metadata": {},
     "output_type": "execute_result"
    }
   ],
   "source": []
  },
  {
   "cell_type": "code",
   "execution_count": null,
   "metadata": {},
   "outputs": [],
   "source": []
  },
  {
   "cell_type": "code",
   "execution_count": null,
   "metadata": {},
   "outputs": [],
   "source": []
  },
  {
   "cell_type": "code",
   "execution_count": null,
   "metadata": {},
   "outputs": [],
   "source": []
  },
  {
   "cell_type": "code",
   "execution_count": 52,
   "metadata": {},
   "outputs": [
    {
     "ename": "ValueError",
     "evalue": "x and y must be the same size",
     "output_type": "error",
     "traceback": [
      "\u001b[0;31m---------------------------------------------------------------------------\u001b[0m",
      "\u001b[0;31mValueError\u001b[0m                                Traceback (most recent call last)",
      "\u001b[0;32m<ipython-input-52-30e373fa36ec>\u001b[0m in \u001b[0;36m<module>\u001b[0;34m\u001b[0m\n\u001b[0;32m----> 1\u001b[0;31m \u001b[0max\u001b[0m\u001b[0;34m.\u001b[0m\u001b[0mscatter\u001b[0m\u001b[0;34m(\u001b[0m\u001b[0mX_train_pf_s_df\u001b[0m\u001b[0;34m.\u001b[0m\u001b[0miloc\u001b[0m\u001b[0;34m[\u001b[0m\u001b[0;34m:\u001b[0m\u001b[0;34m,\u001b[0m \u001b[0;36m0\u001b[0m\u001b[0;34m]\u001b[0m\u001b[0;34m,\u001b[0m \u001b[0my_pred\u001b[0m\u001b[0;34m,\u001b[0m \u001b[0medgecolor\u001b[0m\u001b[0;34m=\u001b[0m\u001b[0;34m'a'\u001b[0m\u001b[0;34m,\u001b[0m \u001b[0mfacecolor\u001b[0m\u001b[0;34m=\u001b[0m\u001b[0;34m'blue'\u001b[0m\u001b[0;34m,\u001b[0m \u001b[0malpha\u001b[0m\u001b[0;34m=\u001b[0m\u001b[0;36m0.7\u001b[0m\u001b[0;34m,\u001b[0m \u001b[0mlabel\u001b[0m\u001b[0;34m=\u001b[0m\u001b[0;34m'Predictions data'\u001b[0m\u001b[0;34m)\u001b[0m\u001b[0;34m\u001b[0m\u001b[0;34m\u001b[0m\u001b[0m\n\u001b[0m",
      "\u001b[0;32m/opt/anaconda3/lib/python3.7/site-packages/matplotlib/__init__.py\u001b[0m in \u001b[0;36minner\u001b[0;34m(ax, data, *args, **kwargs)\u001b[0m\n\u001b[1;32m   1597\u001b[0m     \u001b[0;32mdef\u001b[0m \u001b[0minner\u001b[0m\u001b[0;34m(\u001b[0m\u001b[0max\u001b[0m\u001b[0;34m,\u001b[0m \u001b[0;34m*\u001b[0m\u001b[0margs\u001b[0m\u001b[0;34m,\u001b[0m \u001b[0mdata\u001b[0m\u001b[0;34m=\u001b[0m\u001b[0;32mNone\u001b[0m\u001b[0;34m,\u001b[0m \u001b[0;34m**\u001b[0m\u001b[0mkwargs\u001b[0m\u001b[0;34m)\u001b[0m\u001b[0;34m:\u001b[0m\u001b[0;34m\u001b[0m\u001b[0;34m\u001b[0m\u001b[0m\n\u001b[1;32m   1598\u001b[0m         \u001b[0;32mif\u001b[0m \u001b[0mdata\u001b[0m \u001b[0;32mis\u001b[0m \u001b[0;32mNone\u001b[0m\u001b[0;34m:\u001b[0m\u001b[0;34m\u001b[0m\u001b[0;34m\u001b[0m\u001b[0m\n\u001b[0;32m-> 1599\u001b[0;31m             \u001b[0;32mreturn\u001b[0m \u001b[0mfunc\u001b[0m\u001b[0;34m(\u001b[0m\u001b[0max\u001b[0m\u001b[0;34m,\u001b[0m \u001b[0;34m*\u001b[0m\u001b[0mmap\u001b[0m\u001b[0;34m(\u001b[0m\u001b[0msanitize_sequence\u001b[0m\u001b[0;34m,\u001b[0m \u001b[0margs\u001b[0m\u001b[0;34m)\u001b[0m\u001b[0;34m,\u001b[0m \u001b[0;34m**\u001b[0m\u001b[0mkwargs\u001b[0m\u001b[0;34m)\u001b[0m\u001b[0;34m\u001b[0m\u001b[0;34m\u001b[0m\u001b[0m\n\u001b[0m\u001b[1;32m   1600\u001b[0m \u001b[0;34m\u001b[0m\u001b[0m\n\u001b[1;32m   1601\u001b[0m         \u001b[0mbound\u001b[0m \u001b[0;34m=\u001b[0m \u001b[0mnew_sig\u001b[0m\u001b[0;34m.\u001b[0m\u001b[0mbind\u001b[0m\u001b[0;34m(\u001b[0m\u001b[0max\u001b[0m\u001b[0;34m,\u001b[0m \u001b[0;34m*\u001b[0m\u001b[0margs\u001b[0m\u001b[0;34m,\u001b[0m \u001b[0;34m**\u001b[0m\u001b[0mkwargs\u001b[0m\u001b[0;34m)\u001b[0m\u001b[0;34m\u001b[0m\u001b[0;34m\u001b[0m\u001b[0m\n",
      "\u001b[0;32m/opt/anaconda3/lib/python3.7/site-packages/matplotlib/axes/_axes.py\u001b[0m in \u001b[0;36mscatter\u001b[0;34m(self, x, y, s, c, marker, cmap, norm, vmin, vmax, alpha, linewidths, verts, edgecolors, plotnonfinite, **kwargs)\u001b[0m\n\u001b[1;32m   4441\u001b[0m         \u001b[0my\u001b[0m \u001b[0;34m=\u001b[0m \u001b[0mnp\u001b[0m\u001b[0;34m.\u001b[0m\u001b[0mma\u001b[0m\u001b[0;34m.\u001b[0m\u001b[0mravel\u001b[0m\u001b[0;34m(\u001b[0m\u001b[0my\u001b[0m\u001b[0;34m)\u001b[0m\u001b[0;34m\u001b[0m\u001b[0;34m\u001b[0m\u001b[0m\n\u001b[1;32m   4442\u001b[0m         \u001b[0;32mif\u001b[0m \u001b[0mx\u001b[0m\u001b[0;34m.\u001b[0m\u001b[0msize\u001b[0m \u001b[0;34m!=\u001b[0m \u001b[0my\u001b[0m\u001b[0;34m.\u001b[0m\u001b[0msize\u001b[0m\u001b[0;34m:\u001b[0m\u001b[0;34m\u001b[0m\u001b[0;34m\u001b[0m\u001b[0m\n\u001b[0;32m-> 4443\u001b[0;31m             \u001b[0;32mraise\u001b[0m \u001b[0mValueError\u001b[0m\u001b[0;34m(\u001b[0m\u001b[0;34m\"x and y must be the same size\"\u001b[0m\u001b[0;34m)\u001b[0m\u001b[0;34m\u001b[0m\u001b[0;34m\u001b[0m\u001b[0m\n\u001b[0m\u001b[1;32m   4444\u001b[0m \u001b[0;34m\u001b[0m\u001b[0m\n\u001b[1;32m   4445\u001b[0m         \u001b[0;32mif\u001b[0m \u001b[0ms\u001b[0m \u001b[0;32mis\u001b[0m \u001b[0;32mNone\u001b[0m\u001b[0;34m:\u001b[0m\u001b[0;34m\u001b[0m\u001b[0;34m\u001b[0m\u001b[0m\n",
      "\u001b[0;31mValueError\u001b[0m: x and y must be the same size"
     ]
    }
   ],
   "source": [
    "ax.scatter(X_train_pf_s_df.iloc[:, 0], y_pred, edgecolor='a', facecolor='blue', alpha=0.7, label='Predictions data')"
   ]
  },
  {
   "cell_type": "code",
   "execution_count": 41,
   "metadata": {},
   "outputs": [
    {
     "ename": "IndexError",
     "evalue": "only integers, slices (`:`), ellipsis (`...`), numpy.newaxis (`None`) and integer or boolean arrays are valid indices",
     "output_type": "error",
     "traceback": [
      "\u001b[0;31m---------------------------------------------------------------------------\u001b[0m",
      "\u001b[0;31mIndexError\u001b[0m                                Traceback (most recent call last)",
      "\u001b[0;32m<ipython-input-41-4993f887c927>\u001b[0m in \u001b[0;36m<module>\u001b[0;34m\u001b[0m\n\u001b[1;32m      4\u001b[0m \u001b[0mfig\u001b[0m\u001b[0;34m,\u001b[0m \u001b[0max\u001b[0m \u001b[0;34m=\u001b[0m \u001b[0mplt\u001b[0m\u001b[0;34m.\u001b[0m\u001b[0msubplots\u001b[0m\u001b[0;34m(\u001b[0m\u001b[0mfigsize\u001b[0m\u001b[0;34m=\u001b[0m\u001b[0;34m(\u001b[0m\u001b[0;36m8\u001b[0m\u001b[0;34m,\u001b[0m \u001b[0;36m4\u001b[0m\u001b[0;34m)\u001b[0m\u001b[0;34m)\u001b[0m\u001b[0;34m\u001b[0m\u001b[0;34m\u001b[0m\u001b[0m\n\u001b[1;32m      5\u001b[0m \u001b[0;34m\u001b[0m\u001b[0m\n\u001b[0;32m----> 6\u001b[0;31m \u001b[0max\u001b[0m\u001b[0;34m.\u001b[0m\u001b[0mscatter\u001b[0m\u001b[0;34m(\u001b[0m\u001b[0mX_train_pf_s\u001b[0m\u001b[0;34m[\u001b[0m\u001b[0;34m\"collegeGPA\"\u001b[0m\u001b[0;34m]\u001b[0m\u001b[0;34m,\u001b[0m \u001b[0my_pred\u001b[0m\u001b[0;34m,\u001b[0m \u001b[0medgecolor\u001b[0m\u001b[0;34m=\u001b[0m\u001b[0;34m'a'\u001b[0m\u001b[0;34m,\u001b[0m \u001b[0mfacecolor\u001b[0m\u001b[0;34m=\u001b[0m\u001b[0;34m'blue'\u001b[0m\u001b[0;34m,\u001b[0m \u001b[0malpha\u001b[0m\u001b[0;34m=\u001b[0m\u001b[0;36m0.7\u001b[0m\u001b[0;34m,\u001b[0m \u001b[0mlabel\u001b[0m\u001b[0;34m=\u001b[0m\u001b[0;34m'Predictions data'\u001b[0m\u001b[0;34m)\u001b[0m\u001b[0;34m\u001b[0m\u001b[0;34m\u001b[0m\u001b[0m\n\u001b[0m\u001b[1;32m      7\u001b[0m \u001b[0max\u001b[0m\u001b[0;34m.\u001b[0m\u001b[0mscatter\u001b[0m\u001b[0;34m(\u001b[0m\u001b[0mX\u001b[0m\u001b[0;34m,\u001b[0m \u001b[0my\u001b[0m\u001b[0;34m,\u001b[0m \u001b[0medgecolor\u001b[0m\u001b[0;34m=\u001b[0m\u001b[0;34m'k'\u001b[0m\u001b[0;34m,\u001b[0m \u001b[0mfacecolor\u001b[0m\u001b[0;34m=\u001b[0m\u001b[0;34m'grey'\u001b[0m\u001b[0;34m,\u001b[0m \u001b[0malpha\u001b[0m\u001b[0;34m=\u001b[0m\u001b[0;36m0.7\u001b[0m\u001b[0;34m,\u001b[0m \u001b[0mlabel\u001b[0m\u001b[0;34m=\u001b[0m\u001b[0;34m'Sample data'\u001b[0m\u001b[0;34m)\u001b[0m\u001b[0;34m\u001b[0m\u001b[0;34m\u001b[0m\u001b[0m\n\u001b[1;32m      8\u001b[0m \u001b[0max\u001b[0m\u001b[0;34m.\u001b[0m\u001b[0mset_ylabel\u001b[0m\u001b[0;34m(\u001b[0m\u001b[0;34m'Salary'\u001b[0m\u001b[0;34m,\u001b[0m \u001b[0mfontsize\u001b[0m\u001b[0;34m=\u001b[0m\u001b[0;36m14\u001b[0m\u001b[0;34m)\u001b[0m\u001b[0;34m\u001b[0m\u001b[0;34m\u001b[0m\u001b[0m\n",
      "\u001b[0;31mIndexError\u001b[0m: only integers, slices (`:`), ellipsis (`...`), numpy.newaxis (`None`) and integer or boolean arrays are valid indices"
     ]
    },
    {
     "data": {
      "image/png": "[encoded data removed]",
      "text/plain": [
       "<Figure size 800x400 with 1 Axes>"
      ]
     },
     "metadata": {},
     "output_type": "display_data"
    }
   ],
   "source": [
    "plt.style.use('default')\n",
    "plt.style.use('ggplot')\n",
    "\n",
    "fig, ax = plt.subplots(figsize=(8, 4))\n",
    "\n",
    "ax.scatter(X_train_pf_s[\"collegeGPA\"], y_pred, edgecolor='a', facecolor='blue', alpha=0.7, label='Predictions data')\n",
    "ax.scatter(X, y, edgecolor='k', facecolor='grey', alpha=0.7, label='Sample data')\n",
    "ax.set_ylabel('Salary', fontsize=14)\n",
    "ax.set_xlabel('collegeGPA', fontsize=14)\n",
    "ax.text(0.8, 0.1, 'Yassine Mesbahi', fontsize=13, ha='center', va='center',\n",
    "         transform=ax.transAxes, color='grey', alpha=0.5)\n",
    "ax.legend(facecolor='white', fontsize=11)\n",
    "ax.set_title('$R^2= %.2f$' % r2_score, fontsize=18)\n",
    "\n",
    "fig.tight_layout()"
   ]
  },
  {
   "cell_type": "code",
   "execution_count": null,
   "metadata": {},
   "outputs": [],
   "source": []
  },
  {
   "cell_type": "code",
   "execution_count": 23,
   "metadata": {},
   "outputs": [
    {
     "name": "stdout",
     "output_type": "stream",
     "text": [
      "None\n"
     ]
    }
   ],
   "source": [
    "plt.plot(X_train_pf_s, y_train, marker='o', ls='', label='data', alpha=1)\n",
    "plt.plot(X_real, Y_real, ls='--', label='real function')\n",
    "plt.plot(X_data, Y_pred, marker='^', alpha=.5, label='predictions w/ polynomial features')\n",
    "plt.legend()\n",
    "ax = plt.gca()\n",
    "ax.set(xlabel='x data', ylabel='y data');"
   ]
  },
  {
   "cell_type": "code",
   "execution_count": null,
   "metadata": {},
   "outputs": [],
   "source": [
    "kf = KFold(shuffle=True, random_state=72018, n_splits=3)"
   ]
  },
  {
   "cell_type": "code",
   "execution_count": 20,
   "metadata": {},
   "outputs": [
    {
     "data": {
      "text/plain": [
       "array([1.00000000e-09, 1.66810054e-08, 2.78255940e-07, 4.64158883e-06,\n",
       "       7.74263683e-05, 1.29154967e-03, 2.15443469e-02, 3.59381366e-01,\n",
       "       5.99484250e+00, 1.00000000e+02])"
      ]
     },
     "execution_count": 20,
     "metadata": {},
     "output_type": "execute_result"
    }
   ],
   "source": [
    "alphas = np.geomspace(1e-9, 1e2, num=10)\n",
    "alphas"
   ]
  },
  {
   "cell_type": "code",
   "execution_count": 26,
   "metadata": {},
   "outputs": [],
   "source": [
    "scores_rg=[]\n",
    "for alpha in alphas:\n",
    "    ridge = Ridge(alpha=alpha, max_iter=100000)\n",
    "\n",
    "    estimator = Pipeline([\n",
    "        (\"scaler\", s),\n",
    "        (\"ridge_regression\", rg)])\n",
    "\n",
    "    predictions = cross_val_predict(estimator, X_pf, y, cv = kf)\n",
    "    score = r2_score(y, predictions)\n",
    "    scores_rg.append(score)"
   ]
  },
  {
   "cell_type": "code",
   "execution_count": 33,
   "metadata": {},
   "outputs": [
    {
     "data": {
      "text/plain": [
       "0       3.695716\n",
       "1      -1.678127\n",
       "2       2.367539\n",
       "3      -0.681874\n",
       "4      -2.288807\n",
       "          ...   \n",
       "2993   -4.507318\n",
       "2994   -1.073647\n",
       "2995    2.519174\n",
       "2996    1.100364\n",
       "2997    0.444745\n",
       "Name: Salary, Length: 2997, dtype: float64"
      ]
     },
     "execution_count": 33,
     "metadata": {},
     "output_type": "execute_result"
    }
   ],
   "source": []
  },
  {
   "cell_type": "code",
   "execution_count": 1,
   "metadata": {},
   "outputs": [
    {
     "name": "stdout",
     "output_type": "stream",
     "text": [
      "Collecting package metadata (current_repodata.json): done\n",
      "Solving environment: done\n",
      "\n",
      "# All requested packages already installed.\n",
      "\n",
      "\n",
      "Note: you may need to restart the kernel to use updated packages.\n"
     ]
    }
   ],
   "source": [
    "conda install nbconvert"
   ]
  },
  {
   "cell_type": "code",
   "execution_count": 2,
   "metadata": {},
   "outputs": [
    {
     "ename": "SyntaxError",
     "evalue": "invalid syntax (<ipython-input-2-d1368364fc16>, line 1)",
     "output_type": "error",
     "traceback": [
      "\u001b[0;36m  File \u001b[0;32m\"<ipython-input-2-d1368364fc16>\"\u001b[0;36m, line \u001b[0;32m1\u001b[0m\n\u001b[0;31m    $sudo apt-get install pandoc\u001b[0m\n\u001b[0m    ^\u001b[0m\n\u001b[0;31mSyntaxError\u001b[0m\u001b[0;31m:\u001b[0m invalid syntax\n"
     ]
    }
   ],
   "source": []
  },
  {
   "cell_type": "code",
   "execution_count": null,
   "metadata": {},
   "outputs": [],
   "source": []
  }
 ],
 "metadata": {
  "kernelspec": {
   "display_name": "Python 3",
   "language": "python",
   "name": "python3"
  },
  "language_info": {
   "codemirror_mode": {
    "name": "ipython",
    "version": 3
   },
   "file_extension": ".py",
   "mimetype": "text/x-python",
   "name": "python",
   "nbconvert_exporter": "python",
   "pygments_lexer": "ipython3",
   "version": "3.7.6"
  }
 },
 "nbformat": 4,
 "nbformat_minor": 4
}
